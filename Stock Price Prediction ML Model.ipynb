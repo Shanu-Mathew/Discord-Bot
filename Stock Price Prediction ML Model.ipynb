{
 "cells": [
  {
   "cell_type": "markdown",
   "id": "be282889",
   "metadata": {},
   "source": [
    "# Stock Price Prediction ML Model"
   ]
  },
  {
   "cell_type": "markdown",
   "id": "b1892c7c",
   "metadata": {},
   "source": [
    "Stock Market Prediction helps to determine the future value of the company stock and other financial instruments traded on an exchange."
   ]
  },
  {
   "cell_type": "markdown",
   "id": "692fecd9",
   "metadata": {},
   "source": [
    "### 1)Importing Libraries"
   ]
  },
  {
   "cell_type": "code",
   "execution_count": 122,
   "id": "8cd296c1",
   "metadata": {},
   "outputs": [
    {
     "data": {
      "text/html": [
       "        <script type=\"text/javascript\">\n",
       "        window.PlotlyConfig = {MathJaxConfig: 'local'};\n",
       "        if (window.MathJax && window.MathJax.Hub && window.MathJax.Hub.Config) {window.MathJax.Hub.Config({SVG: {font: \"STIX-Web\"}});}\n",
       "        if (typeof require !== 'undefined') {\n",
       "        require.undef(\"plotly\");\n",
       "        requirejs.config({\n",
       "            paths: {\n",
       "                'plotly': ['https://cdn.plot.ly/plotly-2.12.1.min']\n",
       "            }\n",
       "        });\n",
       "        require(['plotly'], function(Plotly) {\n",
       "            window._Plotly = Plotly;\n",
       "        });\n",
       "        }\n",
       "        </script>\n",
       "        "
      ]
     },
     "metadata": {},
     "output_type": "display_data"
    }
   ],
   "source": [
    "import numpy as np\n",
    "import pandas as pd\n",
    "import matplotlib.pyplot as plt\n",
    "%matplotlib inline\n",
    "\n",
    "import chart_studio.plotly as py\n",
    "import plotly.graph_objs as go\n",
    "\n",
    "#for offline plotting\n",
    "from plotly.offline import plot\n",
    "from plotly.offline import iplot, download_plotlyjs, init_notebook_mode, plot\n",
    "init_notebook_mode(connected=True)"
   ]
  },
  {
   "cell_type": "markdown",
   "id": "785fbb4c",
   "metadata": {},
   "source": [
    "### 2) Importing Dataset\n",
    "(The data set is provided by the Corizo platform)"
   ]
  },
  {
   "cell_type": "code",
   "execution_count": 123,
   "id": "a8af1133",
   "metadata": {
    "scrolled": false
   },
   "outputs": [
    {
     "data": {
      "text/html": [
       "<div>\n",
       "<style scoped>\n",
       "    .dataframe tbody tr th:only-of-type {\n",
       "        vertical-align: middle;\n",
       "    }\n",
       "\n",
       "    .dataframe tbody tr th {\n",
       "        vertical-align: top;\n",
       "    }\n",
       "\n",
       "    .dataframe thead th {\n",
       "        text-align: right;\n",
       "    }\n",
       "</style>\n",
       "<table border=\"1\" class=\"dataframe\">\n",
       "  <thead>\n",
       "    <tr style=\"text-align: right;\">\n",
       "      <th></th>\n",
       "      <th>Date</th>\n",
       "      <th>Open</th>\n",
       "      <th>High</th>\n",
       "      <th>Low</th>\n",
       "      <th>Close</th>\n",
       "      <th>Adj Close</th>\n",
       "      <th>Volume</th>\n",
       "    </tr>\n",
       "  </thead>\n",
       "  <tbody>\n",
       "    <tr>\n",
       "      <th>0</th>\n",
       "      <td>2018-02-05</td>\n",
       "      <td>262.000000</td>\n",
       "      <td>267.899994</td>\n",
       "      <td>250.029999</td>\n",
       "      <td>254.259995</td>\n",
       "      <td>254.259995</td>\n",
       "      <td>11896100</td>\n",
       "    </tr>\n",
       "    <tr>\n",
       "      <th>1</th>\n",
       "      <td>2018-02-06</td>\n",
       "      <td>247.699997</td>\n",
       "      <td>266.700012</td>\n",
       "      <td>245.000000</td>\n",
       "      <td>265.720001</td>\n",
       "      <td>265.720001</td>\n",
       "      <td>12595800</td>\n",
       "    </tr>\n",
       "    <tr>\n",
       "      <th>2</th>\n",
       "      <td>2018-02-07</td>\n",
       "      <td>266.579987</td>\n",
       "      <td>272.450012</td>\n",
       "      <td>264.329987</td>\n",
       "      <td>264.559998</td>\n",
       "      <td>264.559998</td>\n",
       "      <td>8981500</td>\n",
       "    </tr>\n",
       "    <tr>\n",
       "      <th>3</th>\n",
       "      <td>2018-02-08</td>\n",
       "      <td>267.079987</td>\n",
       "      <td>267.619995</td>\n",
       "      <td>250.000000</td>\n",
       "      <td>250.100006</td>\n",
       "      <td>250.100006</td>\n",
       "      <td>9306700</td>\n",
       "    </tr>\n",
       "    <tr>\n",
       "      <th>4</th>\n",
       "      <td>2018-02-09</td>\n",
       "      <td>253.850006</td>\n",
       "      <td>255.800003</td>\n",
       "      <td>236.110001</td>\n",
       "      <td>249.470001</td>\n",
       "      <td>249.470001</td>\n",
       "      <td>16906900</td>\n",
       "    </tr>\n",
       "    <tr>\n",
       "      <th>...</th>\n",
       "      <td>...</td>\n",
       "      <td>...</td>\n",
       "      <td>...</td>\n",
       "      <td>...</td>\n",
       "      <td>...</td>\n",
       "      <td>...</td>\n",
       "      <td>...</td>\n",
       "    </tr>\n",
       "    <tr>\n",
       "      <th>1004</th>\n",
       "      <td>2022-01-31</td>\n",
       "      <td>401.970001</td>\n",
       "      <td>427.700012</td>\n",
       "      <td>398.200012</td>\n",
       "      <td>427.140015</td>\n",
       "      <td>427.140015</td>\n",
       "      <td>20047500</td>\n",
       "    </tr>\n",
       "    <tr>\n",
       "      <th>1005</th>\n",
       "      <td>2022-02-01</td>\n",
       "      <td>432.959991</td>\n",
       "      <td>458.480011</td>\n",
       "      <td>425.540009</td>\n",
       "      <td>457.130005</td>\n",
       "      <td>457.130005</td>\n",
       "      <td>22542300</td>\n",
       "    </tr>\n",
       "    <tr>\n",
       "      <th>1006</th>\n",
       "      <td>2022-02-02</td>\n",
       "      <td>448.250000</td>\n",
       "      <td>451.980011</td>\n",
       "      <td>426.480011</td>\n",
       "      <td>429.480011</td>\n",
       "      <td>429.480011</td>\n",
       "      <td>14346000</td>\n",
       "    </tr>\n",
       "    <tr>\n",
       "      <th>1007</th>\n",
       "      <td>2022-02-03</td>\n",
       "      <td>421.440002</td>\n",
       "      <td>429.260010</td>\n",
       "      <td>404.279999</td>\n",
       "      <td>405.600006</td>\n",
       "      <td>405.600006</td>\n",
       "      <td>9905200</td>\n",
       "    </tr>\n",
       "    <tr>\n",
       "      <th>1008</th>\n",
       "      <td>2022-02-04</td>\n",
       "      <td>407.309998</td>\n",
       "      <td>412.769989</td>\n",
       "      <td>396.640015</td>\n",
       "      <td>410.170013</td>\n",
       "      <td>410.170013</td>\n",
       "      <td>7782400</td>\n",
       "    </tr>\n",
       "  </tbody>\n",
       "</table>\n",
       "<p>1009 rows × 7 columns</p>\n",
       "</div>"
      ],
      "text/plain": [
       "           Date        Open        High         Low       Close   Adj Close  \\\n",
       "0    2018-02-05  262.000000  267.899994  250.029999  254.259995  254.259995   \n",
       "1    2018-02-06  247.699997  266.700012  245.000000  265.720001  265.720001   \n",
       "2    2018-02-07  266.579987  272.450012  264.329987  264.559998  264.559998   \n",
       "3    2018-02-08  267.079987  267.619995  250.000000  250.100006  250.100006   \n",
       "4    2018-02-09  253.850006  255.800003  236.110001  249.470001  249.470001   \n",
       "...         ...         ...         ...         ...         ...         ...   \n",
       "1004 2022-01-31  401.970001  427.700012  398.200012  427.140015  427.140015   \n",
       "1005 2022-02-01  432.959991  458.480011  425.540009  457.130005  457.130005   \n",
       "1006 2022-02-02  448.250000  451.980011  426.480011  429.480011  429.480011   \n",
       "1007 2022-02-03  421.440002  429.260010  404.279999  405.600006  405.600006   \n",
       "1008 2022-02-04  407.309998  412.769989  396.640015  410.170013  410.170013   \n",
       "\n",
       "        Volume  \n",
       "0     11896100  \n",
       "1     12595800  \n",
       "2      8981500  \n",
       "3      9306700  \n",
       "4     16906900  \n",
       "...        ...  \n",
       "1004  20047500  \n",
       "1005  22542300  \n",
       "1006  14346000  \n",
       "1007   9905200  \n",
       "1008   7782400  \n",
       "\n",
       "[1009 rows x 7 columns]"
      ]
     },
     "execution_count": 123,
     "metadata": {},
     "output_type": "execute_result"
    }
   ],
   "source": [
    "datatr=pd.read_excel('1613615-Stock_Price_data_set.xlsx')\n",
    "datatr"
   ]
  },
  {
   "cell_type": "markdown",
   "id": "dffcfa4e",
   "metadata": {},
   "source": [
    "### 3) Data Exploration"
   ]
  },
  {
   "cell_type": "code",
   "execution_count": 124,
   "id": "b73fa46c",
   "metadata": {},
   "outputs": [
    {
     "data": {
      "text/plain": [
       "(1009, 7)"
      ]
     },
     "execution_count": 124,
     "metadata": {},
     "output_type": "execute_result"
    }
   ],
   "source": [
    "datatr.shape"
   ]
  },
  {
   "cell_type": "code",
   "execution_count": 125,
   "id": "fbb87595",
   "metadata": {},
   "outputs": [
    {
     "data": {
      "text/plain": [
       "RangeIndex(start=0, stop=1009, step=1)"
      ]
     },
     "execution_count": 125,
     "metadata": {},
     "output_type": "execute_result"
    }
   ],
   "source": [
    "datatr.index"
   ]
  },
  {
   "cell_type": "code",
   "execution_count": 126,
   "id": "b49d28f6",
   "metadata": {
    "scrolled": false
   },
   "outputs": [
    {
     "data": {
      "text/plain": [
       "Index(['Date', 'Open', 'High', 'Low', 'Close', 'Adj Close', 'Volume'], dtype='object')"
      ]
     },
     "execution_count": 126,
     "metadata": {},
     "output_type": "execute_result"
    }
   ],
   "source": [
    "datatr.columns"
   ]
  },
  {
   "cell_type": "code",
   "execution_count": 127,
   "id": "2fc5266c",
   "metadata": {},
   "outputs": [
    {
     "data": {
      "text/plain": [
       "Date         datetime64[ns]\n",
       "Open                float64\n",
       "High                float64\n",
       "Low                 float64\n",
       "Close               float64\n",
       "Adj Close           float64\n",
       "Volume                int64\n",
       "dtype: object"
      ]
     },
     "execution_count": 127,
     "metadata": {},
     "output_type": "execute_result"
    }
   ],
   "source": [
    "datatr.dtypes"
   ]
  },
  {
   "cell_type": "code",
   "execution_count": 128,
   "id": "cf4f1042",
   "metadata": {},
   "outputs": [
    {
     "name": "stdout",
     "output_type": "stream",
     "text": [
      "<class 'pandas.core.frame.DataFrame'>\n",
      "RangeIndex: 1009 entries, 0 to 1008\n",
      "Data columns (total 7 columns):\n",
      " #   Column     Non-Null Count  Dtype         \n",
      "---  ------     --------------  -----         \n",
      " 0   Date       1009 non-null   datetime64[ns]\n",
      " 1   Open       1009 non-null   float64       \n",
      " 2   High       1009 non-null   float64       \n",
      " 3   Low        1009 non-null   float64       \n",
      " 4   Close      1009 non-null   float64       \n",
      " 5   Adj Close  1009 non-null   float64       \n",
      " 6   Volume     1009 non-null   int64         \n",
      "dtypes: datetime64[ns](1), float64(5), int64(1)\n",
      "memory usage: 55.3 KB\n"
     ]
    }
   ],
   "source": [
    "datatr.info()"
   ]
  },
  {
   "cell_type": "code",
   "execution_count": 129,
   "id": "81ddf820",
   "metadata": {},
   "outputs": [
    {
     "data": {
      "text/html": [
       "<div>\n",
       "<style scoped>\n",
       "    .dataframe tbody tr th:only-of-type {\n",
       "        vertical-align: middle;\n",
       "    }\n",
       "\n",
       "    .dataframe tbody tr th {\n",
       "        vertical-align: top;\n",
       "    }\n",
       "\n",
       "    .dataframe thead th {\n",
       "        text-align: right;\n",
       "    }\n",
       "</style>\n",
       "<table border=\"1\" class=\"dataframe\">\n",
       "  <thead>\n",
       "    <tr style=\"text-align: right;\">\n",
       "      <th></th>\n",
       "      <th>Open</th>\n",
       "      <th>High</th>\n",
       "      <th>Low</th>\n",
       "      <th>Close</th>\n",
       "      <th>Adj Close</th>\n",
       "      <th>Volume</th>\n",
       "    </tr>\n",
       "  </thead>\n",
       "  <tbody>\n",
       "    <tr>\n",
       "      <th>count</th>\n",
       "      <td>1009.000000</td>\n",
       "      <td>1009.000000</td>\n",
       "      <td>1009.000000</td>\n",
       "      <td>1009.000000</td>\n",
       "      <td>1009.000000</td>\n",
       "      <td>1.009000e+03</td>\n",
       "    </tr>\n",
       "    <tr>\n",
       "      <th>mean</th>\n",
       "      <td>419.059673</td>\n",
       "      <td>425.320703</td>\n",
       "      <td>412.374044</td>\n",
       "      <td>419.000733</td>\n",
       "      <td>419.000733</td>\n",
       "      <td>7.570685e+06</td>\n",
       "    </tr>\n",
       "    <tr>\n",
       "      <th>std</th>\n",
       "      <td>108.537532</td>\n",
       "      <td>109.262960</td>\n",
       "      <td>107.555867</td>\n",
       "      <td>108.289999</td>\n",
       "      <td>108.289999</td>\n",
       "      <td>5.465535e+06</td>\n",
       "    </tr>\n",
       "    <tr>\n",
       "      <th>min</th>\n",
       "      <td>233.919998</td>\n",
       "      <td>250.649994</td>\n",
       "      <td>231.229996</td>\n",
       "      <td>233.880005</td>\n",
       "      <td>233.880005</td>\n",
       "      <td>1.144000e+06</td>\n",
       "    </tr>\n",
       "    <tr>\n",
       "      <th>25%</th>\n",
       "      <td>331.489990</td>\n",
       "      <td>336.299988</td>\n",
       "      <td>326.000000</td>\n",
       "      <td>331.619995</td>\n",
       "      <td>331.619995</td>\n",
       "      <td>4.091900e+06</td>\n",
       "    </tr>\n",
       "    <tr>\n",
       "      <th>50%</th>\n",
       "      <td>377.769989</td>\n",
       "      <td>383.010010</td>\n",
       "      <td>370.880005</td>\n",
       "      <td>378.670013</td>\n",
       "      <td>378.670013</td>\n",
       "      <td>5.934500e+06</td>\n",
       "    </tr>\n",
       "    <tr>\n",
       "      <th>75%</th>\n",
       "      <td>509.130005</td>\n",
       "      <td>515.630005</td>\n",
       "      <td>502.529999</td>\n",
       "      <td>509.079987</td>\n",
       "      <td>509.079987</td>\n",
       "      <td>9.322400e+06</td>\n",
       "    </tr>\n",
       "    <tr>\n",
       "      <th>max</th>\n",
       "      <td>692.349976</td>\n",
       "      <td>700.989990</td>\n",
       "      <td>686.090027</td>\n",
       "      <td>691.690002</td>\n",
       "      <td>691.690002</td>\n",
       "      <td>5.890430e+07</td>\n",
       "    </tr>\n",
       "  </tbody>\n",
       "</table>\n",
       "</div>"
      ],
      "text/plain": [
       "              Open         High          Low        Close    Adj Close  \\\n",
       "count  1009.000000  1009.000000  1009.000000  1009.000000  1009.000000   \n",
       "mean    419.059673   425.320703   412.374044   419.000733   419.000733   \n",
       "std     108.537532   109.262960   107.555867   108.289999   108.289999   \n",
       "min     233.919998   250.649994   231.229996   233.880005   233.880005   \n",
       "25%     331.489990   336.299988   326.000000   331.619995   331.619995   \n",
       "50%     377.769989   383.010010   370.880005   378.670013   378.670013   \n",
       "75%     509.130005   515.630005   502.529999   509.079987   509.079987   \n",
       "max     692.349976   700.989990   686.090027   691.690002   691.690002   \n",
       "\n",
       "             Volume  \n",
       "count  1.009000e+03  \n",
       "mean   7.570685e+06  \n",
       "std    5.465535e+06  \n",
       "min    1.144000e+06  \n",
       "25%    4.091900e+06  \n",
       "50%    5.934500e+06  \n",
       "75%    9.322400e+06  \n",
       "max    5.890430e+07  "
      ]
     },
     "execution_count": 129,
     "metadata": {},
     "output_type": "execute_result"
    }
   ],
   "source": [
    "datatr.describe()"
   ]
  },
  {
   "cell_type": "code",
   "execution_count": 130,
   "id": "133751b2",
   "metadata": {},
   "outputs": [
    {
     "data": {
      "text/plain": [
       "0      2018-02-05\n",
       "1      2018-02-06\n",
       "2      2018-02-07\n",
       "3      2018-02-08\n",
       "4      2018-02-09\n",
       "          ...    \n",
       "1004   2022-01-31\n",
       "1005   2022-02-01\n",
       "1006   2022-02-02\n",
       "1007   2022-02-03\n",
       "1008   2022-02-04\n",
       "Name: Date, Length: 1009, dtype: datetime64[ns]"
      ]
     },
     "execution_count": 130,
     "metadata": {},
     "output_type": "execute_result"
    }
   ],
   "source": [
    "datatr['Date']=pd.to_datetime(datatr['Date'])\n",
    "datatr['Date']"
   ]
  },
  {
   "cell_type": "code",
   "execution_count": 131,
   "id": "a0facbd3",
   "metadata": {},
   "outputs": [
    {
     "name": "stdout",
     "output_type": "stream",
     "text": [
      "1460 days\n"
     ]
    }
   ],
   "source": [
    "print((datatr.Date.max()-datatr.Date.min()).days,'days')"
   ]
  },
  {
   "cell_type": "code",
   "execution_count": 132,
   "id": "c5449d03",
   "metadata": {},
   "outputs": [
    {
     "data": {
      "text/plain": [
       "Date         False\n",
       "Open         False\n",
       "High         False\n",
       "Low          False\n",
       "Close        False\n",
       "Adj Close    False\n",
       "Volume       False\n",
       "dtype: bool"
      ]
     },
     "execution_count": 132,
     "metadata": {},
     "output_type": "execute_result"
    }
   ],
   "source": [
    "datatr.isna().any()"
   ]
  },
  {
   "cell_type": "code",
   "execution_count": 133,
   "id": "3b853b4b",
   "metadata": {},
   "outputs": [
    {
     "data": {
      "text/plain": [
       "Date         0\n",
       "Open         0\n",
       "High         0\n",
       "Low          0\n",
       "Close        0\n",
       "Adj Close    0\n",
       "Volume       0\n",
       "dtype: int64"
      ]
     },
     "execution_count": 133,
     "metadata": {},
     "output_type": "execute_result"
    }
   ],
   "source": [
    "datatr.isna().sum()"
   ]
  },
  {
   "cell_type": "code",
   "execution_count": 134,
   "id": "23fce6aa",
   "metadata": {},
   "outputs": [
    {
     "data": {
      "text/plain": [
       "Date         1009\n",
       "Open         1009\n",
       "High         1009\n",
       "Low          1009\n",
       "Close        1009\n",
       "Adj Close    1009\n",
       "Volume       1009\n",
       "dtype: int64"
      ]
     },
     "execution_count": 134,
     "metadata": {},
     "output_type": "execute_result"
    }
   ],
   "source": [
    "datatr.count()"
   ]
  },
  {
   "cell_type": "code",
   "execution_count": 135,
   "id": "8ed2fe44",
   "metadata": {},
   "outputs": [
    {
     "data": {
      "text/plain": [
       "Date         0\n",
       "Open         0\n",
       "High         0\n",
       "Low          0\n",
       "Close        0\n",
       "Adj Close    0\n",
       "Volume       0\n",
       "dtype: int64"
      ]
     },
     "execution_count": 135,
     "metadata": {},
     "output_type": "execute_result"
    }
   ],
   "source": [
    "datatr.isnull().sum()"
   ]
  },
  {
   "cell_type": "code",
   "execution_count": 136,
   "id": "f0423c64",
   "metadata": {},
   "outputs": [
    {
     "data": {
      "text/plain": [
       "Date         0\n",
       "Open         0\n",
       "High         0\n",
       "Low          0\n",
       "Close        0\n",
       "Adj Close    0\n",
       "Volume       0\n",
       "dtype: int64"
      ]
     },
     "execution_count": 136,
     "metadata": {},
     "output_type": "execute_result"
    }
   ],
   "source": [
    "datatr[datatr.duplicated()].count()"
   ]
  },
  {
   "cell_type": "markdown",
   "id": "be2bdf23",
   "metadata": {},
   "source": [
    "###  4) Handling Missing Data values\n",
    "There are no Null or NaN values in the dataset as found out during data exploration so there is no requirement to handle missing values."
   ]
  },
  {
   "cell_type": "markdown",
   "id": "eebda683",
   "metadata": {},
   "source": [
    "### 5) Data Visualisation\n"
   ]
  },
  {
   "cell_type": "code",
   "execution_count": 137,
   "id": "8feb781e",
   "metadata": {},
   "outputs": [
    {
     "data": {
      "text/plain": [
       "<AxesSubplot:>"
      ]
     },
     "execution_count": 137,
     "metadata": {},
     "output_type": "execute_result"
    },
    {
     "data": {
      "image/png": "[encoded data removed]",
      "text/plain": [
       "<Figure size 432x288 with 1 Axes>"
      ]
     },
     "metadata": {
      "needs_background": "light"
     },
     "output_type": "display_data"
    }
   ],
   "source": [
    "datatr[['Open','Close','High','Low','Adj Close']].plot(kind='box')"
   ]
  },
  {
   "cell_type": "code",
   "execution_count": 157,
   "id": "409d14b9",
   "metadata": {},
   "outputs": [
    {
     "data": {
      "text/plain": [
       "<Figure size 720x432 with 0 Axes>"
      ]
     },
     "metadata": {},
     "output_type": "display_data"
    },
    {
     "data": {
      "image/png": "[encoded data removed]",
      "text/plain": [
       "<Figure size 1440x360 with 1 Axes>"
      ]
     },
     "metadata": {
      "needs_background": "light"
     },
     "output_type": "display_data"
    }
   ],
   "source": [
    "plt.rcParams[\"figure.figsize\"] = (20,5)\n",
    "plt_1 = plt.figure(figsize=(10, 6))\n",
    "datatr.plot(kind='line',x='Date',y='Close',color='red',)\n",
    "plt.show()"
   ]
  },
  {
   "cell_type": "markdown",
   "id": "1290efa8",
   "metadata": {},
   "source": [
    "## ML Model Bulding\n",
    "We use the Linear Regression Model. \n",
    "Linear regression is the analysis of two separate variables to define a single relationship and is a useful measure for technical and quantitative analysis in financial markets."
   ]
  },
  {
   "cell_type": "code",
   "execution_count": 139,
   "id": "b7c95c17",
   "metadata": {},
   "outputs": [],
   "source": [
    "from sklearn.model_selection import train_test_split"
   ]
  },
  {
   "cell_type": "markdown",
   "id": "bf4578b3",
   "metadata": {},
   "source": [
    "### 6) Train and Test Data Split\n",
    "The dataset is divided into train data and test data."
   ]
  },
  {
   "cell_type": "code",
   "execution_count": 140,
   "id": "e1c60189",
   "metadata": {},
   "outputs": [],
   "source": [
    "X= np.array(datatr.index).reshape(-1,1)\n",
    "Y=datatr['Close']\n",
    "X_train, X_test, Y_train, Y_test = train_test_split(X, Y, test_size = 0.5, random_state = 101)"
   ]
  },
  {
   "cell_type": "markdown",
   "id": "6dd00919",
   "metadata": {},
   "source": [
    "### 7)  Normalizing Data"
   ]
  },
  {
   "cell_type": "code",
   "execution_count": 141,
   "id": "2f2d6a19",
   "metadata": {},
   "outputs": [],
   "source": [
    "from sklearn.preprocessing import StandardScaler"
   ]
  },
  {
   "cell_type": "code",
   "execution_count": 142,
   "id": "29f88697",
   "metadata": {},
   "outputs": [],
   "source": [
    "scaler=StandardScaler().fit(X_train)\n",
    "scaler.transform(X_test);"
   ]
  },
  {
   "cell_type": "markdown",
   "id": "cb98e87a",
   "metadata": {},
   "source": [
    "### 8) Model Training"
   ]
  },
  {
   "cell_type": "code",
   "execution_count": 143,
   "id": "86709d6e",
   "metadata": {},
   "outputs": [],
   "source": [
    "from sklearn.linear_model import LinearRegression"
   ]
  },
  {
   "cell_type": "code",
   "execution_count": 144,
   "id": "57dace15",
   "metadata": {},
   "outputs": [
    {
     "data": {
      "text/plain": [
       "LinearRegression()"
      ]
     },
     "execution_count": 144,
     "metadata": {},
     "output_type": "execute_result"
    }
   ],
   "source": [
    "lm=LinearRegression()\n",
    "lm.fit(X_train,Y_train)"
   ]
  },
  {
   "cell_type": "code",
   "execution_count": 145,
   "id": "101e3471",
   "metadata": {},
   "outputs": [
    {
     "data": {
      "text/plain": [
       "(array([0.31366015]), 260.7085207156582)"
      ]
     },
     "execution_count": 145,
     "metadata": {},
     "output_type": "execute_result"
    }
   ],
   "source": [
    "m = lm.coef_\n",
    "c = lm.intercept_\n",
    "m,c \n",
    "#m is the slope (Gradient) and c is y-intercept."
   ]
  },
  {
   "cell_type": "code",
   "execution_count": 146,
   "id": "a0f1c607",
   "metadata": {},
   "outputs": [],
   "source": [
    "layout= go.Layout(\n",
    "        title='Stock Prices',\n",
    "        xaxis=dict(\n",
    "        title='Day',\n",
    "        titlefont=dict(\n",
    "        family='Courier New, monospace',\n",
    "        size=18,\n",
    "        )))"
   ]
  },
  {
   "cell_type": "code",
   "execution_count": 147,
   "id": "e9489e83",
   "metadata": {},
   "outputs": [],
   "source": [
    "trace0= go.Scatter(\n",
    "        x=X_train.T[0],\n",
    "        y=Y_train,\n",
    "        mode='markers',\n",
    "        name='Actual'\n",
    ")\n",
    "trace1= go.Scatter(\n",
    "        x=X_train.T[0],\n",
    "        y=lm.predict(X_train).T,\n",
    "        mode='lines',\n",
    "        name='Predicted'\n",
    ")\n",
    "data_tr1=[trace0,trace1]\n",
    "layout.xaxis.title.text='Day'\n",
    "plot2=go.Figure(data=data_tr1, layout=layout)"
   ]
  },
  {
   "cell_type": "code",
   "execution_count": 148,
   "id": "d2ae3e44",
   "metadata": {
    "scrolled": false
   },
   "outputs": [
    {
     "data": {
      "application/vnd.plotly.v1+json": {
       "config": {
        "linkText": "Export to plot.ly",
        "plotlyServerURL": "https://plot.ly",
        "showLink": false
       },
       "data": [
        {
         "mode": "markers",
         "name": "Actual",
         "type": "scatter",
         "x": [
          577,
          475,
          160,
          259,
          877,
          332,
          433,
          438,
          428,
          749,
          907,
          474,
          940,
          485,
          364,
          713,
          278,
          178,
          720,
          945,
          975,
          57,
          780,
          159,
          762,
          935,
          645,
          583,
          598,
          621,
          715,
          317,
          255,
          669,
          603,
          551,
          447,
          385,
          19,
          351,
          342,
          754,
          666,
          156,
          597,
          345,
          823,
          282,
          301,
          856,
          286,
          633,
          752,
          450,
          165,
          312,
          753,
          472,
          372,
          414,
          604,
          166,
          930,
          324,
          283,
          929,
          879,
          181,
          78,
          782,
          382,
          875,
          427,
          95,
          897,
          349,
          812,
          755,
          652,
          170,
          527,
          844,
          91,
          683,
          784,
          920,
          492,
          581,
          756,
          200,
          876,
          553,
          70,
          791,
          43,
          292,
          199,
          660,
          742,
          426,
          296,
          143,
          952,
          133,
          948,
          853,
          51,
          44,
          775,
          767,
          315,
          243,
          1005,
          411,
          631,
          873,
          504,
          193,
          222,
          719,
          220,
          271,
          13,
          431,
          630,
          866,
          211,
          17,
          153,
          826,
          843,
          14,
          73,
          955,
          807,
          443,
          706,
          716,
          93,
          792,
          344,
          802,
          995,
          926,
          215,
          521,
          396,
          387,
          480,
          150,
          967,
          511,
          297,
          152,
          798,
          302,
          724,
          494,
          919,
          1003,
          781,
          169,
          415,
          891,
          608,
          45,
          409,
          744,
          112,
          398,
          602,
          277,
          972,
          496,
          590,
          380,
          679,
          437,
          773,
          646,
          913,
          912,
          310,
          390,
          541,
          405,
          102,
          712,
          238,
          25,
          914,
          559,
          430,
          158,
          20,
          289,
          587,
          330,
          758,
          376,
          635,
          710,
          502,
          743,
          978,
          453,
          119,
          606,
          588,
          251,
          579,
          647,
          594,
          444,
          954,
          401,
          816,
          245,
          145,
          350,
          694,
          829,
          611,
          899,
          221,
          311,
          515,
          85,
          817,
          671,
          177,
          108,
          242,
          684,
          115,
          35,
          441,
          549,
          546,
          1,
          634,
          490,
          848,
          571,
          101,
          662,
          751,
          369,
          878,
          11,
          456,
          1002,
          223,
          537,
          163,
          921,
          764,
          422,
          769,
          359,
          488,
          997,
          192,
          733,
          208,
          902,
          882,
          991,
          97,
          880,
          377,
          22,
          554,
          348,
          518,
          889,
          591,
          88,
          50,
          592,
          770,
          869,
          705,
          657,
          566,
          232,
          578,
          970,
          26,
          469,
          868,
          663,
          697,
          487,
          862,
          122,
          96,
          190,
          923,
          596,
          455,
          144,
          842,
          871,
          87,
          412,
          270,
          658,
          61,
          484,
          708,
          580,
          79,
          129,
          811,
          67,
          564,
          125,
          649,
          678,
          804,
          609,
          813,
          219,
          987,
          395,
          309,
          836,
          285,
          370,
          815,
          828,
          692,
          404,
          280,
          397,
          253,
          52,
          561,
          860,
          654,
          696,
          872,
          358,
          589,
          82,
          928,
          217,
          305,
          990,
          539,
          788,
          711,
          356,
          94,
          383,
          254,
          235,
          535,
          465,
          21,
          917,
          149,
          470,
          797,
          508,
          558,
          643,
          46,
          461,
          850,
          451,
          226,
          207,
          675,
          244,
          357,
          71,
          366,
          229,
          103,
          262,
          632,
          197,
          505,
          709,
          250,
          526,
          303,
          340,
          985,
          3,
          540,
          980,
          478,
          625,
          394,
          507,
          92,
          962,
          570,
          946,
          386,
          685,
          137,
          214,
          741,
          47,
          686,
          855,
          922,
          794,
          378,
          854,
          776,
          276,
          943,
          499,
          10,
          542,
          419,
          498,
          1000,
          703,
          892,
          959,
          664,
          865,
          463,
          203,
          760,
          273,
          140,
          362,
          628,
          512,
          300,
          911,
          951,
          327,
          964,
          402,
          953,
          329,
          750,
          294,
          615,
          440,
          436,
          971,
          519,
          831,
          284,
          99,
          676,
          574,
          264,
          239,
          457,
          503,
          105,
          896,
          343,
          619,
          735,
          76,
          906,
          638,
          275,
          249,
          840,
          556,
          418,
          59,
          883,
          925,
          371,
          136,
          506,
          623,
          851,
          49,
          40,
          477,
          908,
          5,
          110,
          704,
          732,
          316,
          757,
          936,
          1004,
          644,
          552,
          973,
          393,
          75,
          599,
          575,
          838,
          337,
          523,
          863
         ],
         "y": [
          436.25,
          333.200012,
          369.609985,
          356.869995,
          517.570007,
          336.630005,
          271.5,
          287.410004,
          293.350006,
          523.280029,
          589.289978,
          333.100006,
          674.049988,
          335.660004,
          325.209991,
          497.519989,
          361.459991,
          346.709991,
          522.419983,
          668.400024,
          586.72998,
          311.76001,
          518.02002,
          361.190002,
          557.280029,
          653.159973,
          526.27002,
          425.920013,
          468.040009,
          480.450012,
          515.780029,
          361.040009,
          345.730011,
          527.51001,
          447.23999,
          426.75,
          283.109985,
          302.799988,
          315,
          367.320007,
          350.619995,
          539.450012,
          490.649994,
          367.649994,
          453.720001,
          365.209991,
          486.660004,
          377.869995,
          354.73999,
          528.210022,
          353.369995,
          466.929993,
          539.039978,
          302.570007,
          381.429993,
          385.029999,
          548.159973,
          332.220001,
          325.929993,
          263.079987,
          455.040009,
          377.140015,
          633.799988,
          354.269989,
          361.01001,
          629.76001,
          510.820007,
          333.160004,
          349.730011,
          524.030029,
          312.279999,
          519.299988,
          286.279999,
          415.440002,
          558.919983,
          362.200012,
          506.519989,
          552.159973,
          507.019989,
          349.100006,
          349.920013,
          499.890015,
          391.980011,
          489.049988,
          504.790009,
          610.340027,
          338.109985,
          413.440002,
          550.789978,
          270.600006,
          514.25,
          422.959991,
          328.190002,
          513.950012,
          289.929993,
          367.880005,
          286.209991,
          469.959991,
          497.980011,
          284.25,
          363.920013,
          368.040009,
          679.330017,
          326.399994,
          655.98999,
          527.070007,
          332.700012,
          298.070007,
          516.390015,
          546.150024,
          364.369995,
          326.670013,
          457.130005,
          254.589996,
          494.730011,
          516.48999,
          366.950012,
          317.920013,
          246.389999,
          503.220001,
          266.769989,
          359.609985,
          285.929993,
          266.690002,
          509.079987,
          542.950012,
          282.880005,
          290.390015,
          368.149994,
          486.279999,
          488.769989,
          294.160004,
          331.820007,
          682.02002,
          508.899994,
          289.570007,
          476.619995,
          512.659973,
          404.980011,
          513.390015,
          363.519989,
          540.02002,
          510.799988,
          632.659973,
          274.880005,
          368.769989,
          289.290009,
          298.98999,
          329.809998,
          348.410004,
          625.580017,
          387.779999,
          367.649994,
          369.950012,
          554.580017,
          360.350006,
          534.450012,
          349.600006,
          599.059998,
          384.359985,
          520.25,
          351.350006,
          267.619995,
          543.710022,
          493.160004,
          303.670013,
          270.75,
          586.340027,
          379.480011,
          293.25,
          443.399994,
          358.820007,
          597.98999,
          342.880005,
          434.480011,
          308.929993,
          541.940002,
          291.450012,
          520.700012,
          523.890015,
          573.140015,
          575.429993,
          378.809998,
          291.440002,
          375.5,
          294.290009,
          398.179993,
          503.380005,
          351.390015,
          315.880005,
          590.650024,
          421.380005,
          278.049988,
          365.359985,
          325.220001,
          366.959991,
          419.600006,
          351.850006,
          559.070007,
          307.630005,
          481.329987,
          490.700012,
          369.01001,
          501.769989,
          614.23999,
          311.690002,
          363.089996,
          476.890015,
          419.48999,
          355.809998,
          414.769989,
          529.559998,
          436.130005,
          291.570007,
          691.690002,
          287.98999,
          503.179993,
          335.660004,
          367.679993,
          370.019989,
          513.76001,
          497.890015,
          548.72998,
          569.190002,
          260.579987,
          379.059998,
          368.700012,
          361.399994,
          496.079987,
          520.650024,
          364.700012,
          418.649994,
          321.98999,
          485.230011,
          361.049988,
          300.690002,
          288.029999,
          396.720001,
          372.279999,
          265.720001,
          475.470001,
          338.619995,
          500.769989,
          438.269989,
          391.429993,
          491.170013,
          532.390015,
          326.459991,
          515.150024,
          281.040009,
          312.48999,
          386.700012,
          233.880005,
          342.390015,
          380.709991,
          613.150024,
          548.219971,
          267.529999,
          546.700012,
          379.5,
          338.690002,
          508.25,
          327.5,
          522.859985,
          286.130005,
          590.530029,
          520.549988,
          540.840027,
          384.480011,
          517.349976,
          310.100006,
          317,
          437.48999,
          360.299988,
          371.709991,
          518.909973,
          425.559998,
          363.829987,
          334.519989,
          418.070007,
          538.849976,
          531.049988,
          488.23999,
          495.98999,
          434.26001,
          320.269989,
          429.320007,
          611.659973,
          321.549988,
          304.209991,
          532.280029,
          470.609985,
          480.23999,
          338.920013,
          535.97998,
          337.450012,
          411.089996,
          315.440002,
          634.809998,
          449.869995,
          315.549988,
          370.980011,
          487.269989,
          511.769989,
          361.450012,
          264.75,
          354.299988,
          483.859985,
          311.690002,
          339.26001,
          485,
          419.890015,
          353.540009,
          349.359985,
          505.549988,
          326.459991,
          428.149994,
          343.089996,
          552.840027,
          541.450012,
          546.539978,
          502.779999,
          509,
          270.940002,
          567.52002,
          293.75,
          370.540009,
          499.23999,
          359.970001,
          335.779999,
          509.109985,
          501.670013,
          487.220001,
          294.149994,
          358.779999,
          291.519989,
          344.709991,
          327.769989,
          411.890015,
          535.960022,
          480.670013,
          470.5,
          515.409973,
          381,
          434.049988,
          361.809998,
          624.940002,
          266.839996,
          374.230011,
          539.849976,
          357.119995,
          520.809998,
          504.579987,
          376.160004,
          416.76001,
          299.109985,
          347.570007,
          337.589996,
          360.269989,
          293.119995,
          321.160004,
          592.640015,
          348.679993,
          315.480011,
          546.98999,
          380.01001,
          424.98999,
          490.579987,
          309.25,
          304.320007,
          508.820007,
          302.600006,
          256.079987,
          288.75,
          539.440002,
          338.049988,
          379.929993,
          325.220001,
          310.619995,
          271.200012,
          390.519989,
          356.970001,
          483.380005,
          286.730011,
          366.769989,
          491.359985,
          351.339996,
          364.130005,
          377.339996,
          343.429993,
          597.369995,
          250.100006,
          370.959991,
          613.119995,
          323.309998,
          485.799988,
          296.779999,
          373.690002,
          390.399994,
          641.900024,
          431.820007,
          645.719971,
          309.380005,
          488.279999,
          338.019989,
          265.320007,
          500.859985,
          311.649994,
          488.23999,
          533.5,
          603.349976,
          539.419983,
          304.290009,
          533.030029,
          493.329987,
          361.209991,
          677.719971,
          347.73999,
          278.549988,
          364.079987,
          272.790009,
          343.160004,
          366.420013,
          481.790009,
          546.880005,
          658.289978,
          473.079987,
          547.950012,
          307.350006,
          258.820007,
          557.590027,
          349.600006,
          358.820007,
          365.98999,
          509.640015,
          386.190002,
          359.459991,
          589.349976,
          682.609985,
          354.390015,
          616.469971,
          288.269989,
          687.400024,
          349.190002,
          538.599976,
          361.410004,
          527.390015,
          292.859985,
          281.209991,
          604.559998,
          369.029999,
          501.339996,
          366.230011,
          390.390015,
          539.809998,
          452.579987,
          363.910004,
          353.190002,
          315.929993,
          369.670013,
          408.25,
          550.119995,
          357.119995,
          489.820007,
          500.48999,
          349.290009,
          598.719971,
          491.869995,
          356.269989,
          339.850006,
          492.390015,
          421.420013,
          268.149994,
          313.299988,
          519.969971,
          631.849976,
          332.700012,
          327.730011,
          371.070007,
          488.51001,
          512.73999,
          336.059998,
          288.940002,
          329.089996,
          577.76001,
          257.950012,
          395.799988,
          484.670013,
          540.72998,
          362.75,
          547.919983,
          664.780029,
          427.140015,
          547.530029,
          439.170013,
          605.039978,
          291.769989,
          344.720001,
          466.26001,
          451.040009,
          494.73999,
          352.01001,
          372.779999,
          537.309998
         ]
        },
        {
         "mode": "lines",
         "name": "Predicted",
         "type": "scatter",
         "x": [
          577,
          475,
          160,
          259,
          877,
          332,
          433,
          438,
          428,
          749,
          907,
          474,
          940,
          485,
          364,
          713,
          278,
          178,
          720,
          945,
          975,
          57,
          780,
          159,
          762,
          935,
          645,
          583,
          598,
          621,
          715,
          317,
          255,
          669,
          603,
          551,
          447,
          385,
          19,
          351,
          342,
          754,
          666,
          156,
          597,
          345,
          823,
          282,
          301,
          856,
          286,
          633,
          752,
          450,
          165,
          312,
          753,
          472,
          372,
          414,
          604,
          166,
          930,
          324,
          283,
          929,
          879,
          181,
          78,
          782,
          382,
          875,
          427,
          95,
          897,
          349,
          812,
          755,
          652,
          170,
          527,
          844,
          91,
          683,
          784,
          920,
          492,
          581,
          756,
          200,
          876,
          553,
          70,
          791,
          43,
          292,
          199,
          660,
          742,
          426,
          296,
          143,
          952,
          133,
          948,
          853,
          51,
          44,
          775,
          767,
          315,
          243,
          1005,
          411,
          631,
          873,
          504,
          193,
          222,
          719,
          220,
          271,
          13,
          431,
          630,
          866,
          211,
          17,
          153,
          826,
          843,
          14,
          73,
          955,
          807,
          443,
          706,
          716,
          93,
          792,
          344,
          802,
          995,
          926,
          215,
          521,
          396,
          387,
          480,
          150,
          967,
          511,
          297,
          152,
          798,
          302,
          724,
          494,
          919,
          1003,
          781,
          169,
          415,
          891,
          608,
          45,
          409,
          744,
          112,
          398,
          602,
          277,
          972,
          496,
          590,
          380,
          679,
          437,
          773,
          646,
          913,
          912,
          310,
          390,
          541,
          405,
          102,
          712,
          238,
          25,
          914,
          559,
          430,
          158,
          20,
          289,
          587,
          330,
          758,
          376,
          635,
          710,
          502,
          743,
          978,
          453,
          119,
          606,
          588,
          251,
          579,
          647,
          594,
          444,
          954,
          401,
          816,
          245,
          145,
          350,
          694,
          829,
          611,
          899,
          221,
          311,
          515,
          85,
          817,
          671,
          177,
          108,
          242,
          684,
          115,
          35,
          441,
          549,
          546,
          1,
          634,
          490,
          848,
          571,
          101,
          662,
          751,
          369,
          878,
          11,
          456,
          1002,
          223,
          537,
          163,
          921,
          764,
          422,
          769,
          359,
          488,
          997,
          192,
          733,
          208,
          902,
          882,
          991,
          97,
          880,
          377,
          22,
          554,
          348,
          518,
          889,
          591,
          88,
          50,
          592,
          770,
          869,
          705,
          657,
          566,
          232,
          578,
          970,
          26,
          469,
          868,
          663,
          697,
          487,
          862,
          122,
          96,
          190,
          923,
          596,
          455,
          144,
          842,
          871,
          87,
          412,
          270,
          658,
          61,
          484,
          708,
          580,
          79,
          129,
          811,
          67,
          564,
          125,
          649,
          678,
          804,
          609,
          813,
          219,
          987,
          395,
          309,
          836,
          285,
          370,
          815,
          828,
          692,
          404,
          280,
          397,
          253,
          52,
          561,
          860,
          654,
          696,
          872,
          358,
          589,
          82,
          928,
          217,
          305,
          990,
          539,
          788,
          711,
          356,
          94,
          383,
          254,
          235,
          535,
          465,
          21,
          917,
          149,
          470,
          797,
          508,
          558,
          643,
          46,
          461,
          850,
          451,
          226,
          207,
          675,
          244,
          357,
          71,
          366,
          229,
          103,
          262,
          632,
          197,
          505,
          709,
          250,
          526,
          303,
          340,
          985,
          3,
          540,
          980,
          478,
          625,
          394,
          507,
          92,
          962,
          570,
          946,
          386,
          685,
          137,
          214,
          741,
          47,
          686,
          855,
          922,
          794,
          378,
          854,
          776,
          276,
          943,
          499,
          10,
          542,
          419,
          498,
          1000,
          703,
          892,
          959,
          664,
          865,
          463,
          203,
          760,
          273,
          140,
          362,
          628,
          512,
          300,
          911,
          951,
          327,
          964,
          402,
          953,
          329,
          750,
          294,
          615,
          440,
          436,
          971,
          519,
          831,
          284,
          99,
          676,
          574,
          264,
          239,
          457,
          503,
          105,
          896,
          343,
          619,
          735,
          76,
          906,
          638,
          275,
          249,
          840,
          556,
          418,
          59,
          883,
          925,
          371,
          136,
          506,
          623,
          851,
          49,
          40,
          477,
          908,
          5,
          110,
          704,
          732,
          316,
          757,
          936,
          1004,
          644,
          552,
          973,
          393,
          75,
          599,
          575,
          838,
          337,
          523,
          863
         ],
         "y": [
          441.69042610354103,
          409.697091008976,
          310.8941443934074,
          341.9464990440146,
          535.7884704993207,
          364.8436898469877,
          396.5233647935668,
          398.09166553349644,
          394.95506405363716,
          495.6399715571214,
          545.1982749388986,
          409.3834308609901,
          555.5490598224344,
          412.83369248883525,
          374.8808145825375,
          484.3482062296278,
          347.90604185574733,
          316.54002705715413,
          486.54382726552933,
          557.1173605623641,
          566.527165001942,
          278.58714915085636,
          505.36343614468524,
          310.5804842454214,
          499.7175534809385,
          553.9807590825047,
          463.0193161665844,
          443.5723869914566,
          448.2772892112456,
          455.49147261492203,
          484.97552652559966,
          360.13878762719867,
          340.6918584520709,
          470.5471597182468,
          449.84558995117527,
          433.5352622559068,
          400.9146068653699,
          381.46767769024206,
          266.6680635273909,
          370.8032326587204,
          367.980291326847,
          497.20827229705105,
          469.606179274289,
          309.6395038014636,
          447.96362906325965,
          368.92127177080476,
          518.8508225080803,
          349.1606824476911,
          355.12022525942376,
          529.2016073916161,
          350.4153230396348,
          459.2553943907532,
          496.58095200107914,
          401.8555873093277,
          312.462445133337,
          358.570486887269,
          496.8946121490651,
          408.75611056501816,
          377.39009576642496,
          390.5638219818341,
          450.1592500991612,
          312.77610528132294,
          552.4124583425751,
          362.33440866310025,
          349.474342595677,
          552.0987981945891,
          536.4157907952925,
          317.48100750111195,
          285.17401225856094,
          505.99075644065715,
          380.52669724628424,
          535.1611502033488,
          394.64140390565126,
          290.50623477432174,
          542.0616734590393,
          370.17591236274853,
          515.400560880235,
          497.52193244503695,
          465.21493720248594,
          314.03074587326665,
          426.0074187042444,
          525.4376856157849,
          289.251594182378,
          474.93840179004985,
          506.61807673662895,
          549.2758568627157,
          415.02931352473684,
          442.9450666954848,
          497.83559259302285,
          323.4405503128446,
          535.4748103513348,
          434.1625825518787,
          282.66473107467345,
          508.81369777253053,
          274.1959070790533,
          352.2972839275504,
          323.1268901648587,
          467.7242183863734,
          493.4443505212198,
          394.3277437576653,
          353.55192451949415,
          305.5619218776465,
          559.3129815982657,
          302.4253203977872,
          558.0583410063218,
          528.2606269476582,
          276.70518826294074,
          274.5095672270392,
          503.79513540475557,
          501.28585422086815,
          359.5114673312268,
          336.9279366762397,
          575.93696944152,
          389.6228415378763,
          458.62807409478137,
          534.5338299073769,
          418.79323530056797,
          321.24492927694314,
          330.34107356853514,
          486.2301671175434,
          329.7137532725633,
          345.7104208198458,
          264.7861026394753,
          395.89604449759497,
          458.3144139467954,
          532.3382088714754,
          326.8908119406899,
          266.04074323141907,
          308.6985233575058,
          519.7918029520381,
          525.1240254677989,
          265.09976278746126,
          283.60571151863127,
          560.2539620422234,
          513.8322601403054,
          399.6599662734261,
          482.1525851937263,
          485.2891866735856,
          289.8789144783499,
          509.12735792051643,
          368.60761162281887,
          512.2639594003758,
          572.8003679616606,
          551.1578177506314,
          328.1454525326336,
          424.12545781632883,
          384.9179393180873,
          382.0949979862139,
          411.2653917489056,
          307.75754291354804,
          564.0178838180545,
          420.98885633646955,
          353.86558466748005,
          308.3848632095199,
          511.009318808432,
          355.4338854074097,
          487.79846785747304,
          415.65663382070863,
          548.9621967147298,
          575.3096491455481,
          505.6770962926712,
          313.71708572528075,
          390.87748212982,
          540.1797125711237,
          451.41389069110494,
          274.82322737502517,
          388.99552124190444,
          494.0716708171917,
          295.8384572900826,
          385.5452596140592,
          449.5319298031893,
          347.59238170776143,
          565.5861845579842,
          416.28395411668055,
          445.7680080273582,
          379.89937695031244,
          473.68376119810614,
          397.77800538551054,
          503.16781510878377,
          463.3329763145704,
          547.0802358268143,
          546.7665756788283,
          357.9431665912972,
          383.0359784301717,
          430.39866077604745,
          387.74088064996073,
          292.70185581022326,
          484.0345460816419,
          335.35963593631004,
          268.5500244153065,
          547.3938959748002,
          436.04454343979427,
          395.582384349609,
          310.26682409743546,
          266.9817236753768,
          351.35630348359257,
          444.82702758340037,
          364.2163695510158,
          498.46291288899477,
          378.6447363583687,
          459.8827146867251,
          483.40722578567,
          418.1659150045962,
          493.75801066920576,
          567.4681454458998,
          402.79656775328544,
          298.0340783259841,
          450.7865703951331,
          445.14068773138627,
          339.4372178601272,
          442.3177463995129,
          463.64663646255633,
          447.0226486193019,
          399.97362642141206,
          559.9403018942375,
          386.48624005801696,
          516.6552014721788,
          337.55525697221157,
          306.18924217361837,
          370.48957251073443,
          478.3886634178951,
          520.732783395996,
          452.3548711350627,
          542.6889937550111,
          330.02741342054924,
          358.2568267392831,
          422.24349692841326,
          287.36963329446246,
          516.9688616201647,
          471.17448001421866,
          316.2263669091682,
          294.5838166981389,
          336.61427652825375,
          475.2520619380358,
          296.7794377340404,
          271.68662589516583,
          399.0326459774543,
          432.90794195993493,
          431.9669615159771,
          261.02218086364417,
          459.5690545387392,
          414.4019932287649,
          526.6923262077287,
          439.80846521562546,
          292.38819566223737,
          468.3515386823453,
          496.26729185309324,
          376.44911532246715,
          536.1021306473066,
          264.15878234350345,
          403.73754819724326,
          574.9959889975621,
          330.65473371652104,
          429.14402018410374,
          311.83512483736513,
          549.5895170107017,
          500.34487377691033,
          393.0731031657216,
          501.91317451684,
          373.3125138426078,
          413.7746729327931,
          573.4276882576326,
          320.9312691289572,
          490.6214091893464,
          325.9498314967321,
          543.629974198969,
          537.3567712392503,
          571.5457273697169,
          291.1335550702936,
          536.7294509432785,
          378.95839650635463,
          267.60904397134874,
          434.4762426998646,
          369.8622522147626,
          423.184477372371,
          539.5523922751519,
          446.0816681753441,
          288.3106137384202,
          276.39152811495484,
          446.39532832333003,
          502.2268346648259,
          533.2791893154332,
          481.8389250457403,
          466.7832379424156,
          438.2401644756958,
          333.4776750483945,
          442.004086251527,
          564.9588642620124,
          268.86368456329245,
          407.8151301210604,
          532.9655291674474,
          468.6651988303312,
          479.3296438618529,
          413.46101278480717,
          531.0835682795316,
          298.97505876994194,
          290.8198949223077,
          320.3039488329853,
          550.2168373066736,
          447.64996891527375,
          403.42388804925736,
          305.8755820256324,
          524.8103653198131,
          533.906509611405,
          287.9969535904343,
          389.93650168586225,
          345.39676067185985,
          467.0968980904015,
          279.8417897428001,
          412.52003234084935,
          482.77990548969814,
          442.63140654749884,
          285.48767240654684,
          301.17067980584346,
          515.0869007322492,
          281.72375063071564,
          437.61284417972394,
          299.9160392138997,
          464.27395675852813,
          473.3701010501202,
          512.8912796963476,
          451.7275508390909,
          515.714221028221,
          329.4000931245773,
          570.2910867777732,
          384.6042791701014,
          357.62950644331124,
          522.9284044318974,
          350.10166289164886,
          376.7627754704531,
          516.3415413241929,
          520.41912324801,
          477.76134312192323,
          387.4272205019748,
          348.5333621517192,
          385.23159946607325,
          340.06453815609905,
          277.0188484109267,
          436.6718637357661,
          530.4562479835598,
          465.8422574984578,
          479.01598371386694,
          534.220169759391,
          372.9988536946219,
          445.4543478793722,
          286.42865285050465,
          551.7851380466032,
          328.77277282860547,
          356.37486585136753,
          571.2320672217311,
          429.77134048007565,
          507.8727173285727,
          483.72088593365595,
          372.37153339865006,
          290.19257462633584,
          380.8403573942702,
          340.37819830408495,
          334.4186554923523,
          428.5166998881319,
          406.56048952911664,
          267.2953838233628,
          548.334876418758,
          307.4438827655621,
          408.1287902690463,
          510.6956586604461,
          420.0478758925117,
          435.73088329180837,
          462.39199587061256,
          275.13688752301107,
          405.3058489371729,
          527.3196465037005,
          402.1692474573136,
          331.59571416047885,
          325.6361713487462,
          472.4291206061624,
          337.24159682422567,
          372.68519354663596,
          282.9783912226594,
          375.5081348785094,
          332.53669460443666,
          293.0155159582092,
          342.8874794879724,
          458.9417342427673,
          322.49956986888685,
          419.1068954485539,
          483.09356563768404,
          339.12355771214123,
          425.6937585562585,
          355.7475455553956,
          367.3529710308751,
          569.6637664818013,
          261.649501159616,
          430.08500062806155,
          568.0954657418717,
          410.6380714529338,
          456.74611320686574,
          384.2906190221155,
          419.7342157445258,
          289.565254330364,
          562.449583078125,
          439.4948050676395,
          557.4310207103499,
          381.781337838228,
          475.5657220860217,
          303.6799609897309,
          327.83179238464766,
          493.1306903732339,
          275.450547670997,
          475.8793822340076,
          528.8879472436302,
          549.9031771586876,
          509.7546782164883,
          379.27205665434053,
          528.5742870956442,
          504.1087955527415,
          347.2787215597755,
          556.4900402663923,
          417.2249345606383,
          263.84512219551755,
          430.7123209240334,
          392.1321227217638,
          416.9112744126524,
          574.3686687015903,
          481.2116047497685,
          540.4933727191096,
          561.5086026341671,
          468.97885897831713,
          532.0245487234895,
          405.9331692331448,
          324.3815307568024,
          499.0902331849666,
          346.33774111581766,
          304.6209414336887,
          374.2534942865656,
          457.6870936508236,
          421.30251648445545,
          354.80656511143786,
          546.4529155308423,
          558.9993214502797,
          363.275389107058,
          563.0769033740968,
          386.7999002060029,
          559.6266417462515,
          363.90270940302986,
          495.9536317051073,
          352.92460422352224,
          453.60951172700646,
          398.71898582946835,
          397.46434523752464,
          565.2725244099984,
          423.498137520357,
          521.3601036919679,
          349.7880027436629,
          291.7608753662655,
          472.7427807541483,
          440.7494456595832,
          343.5147997839443,
          335.673296084296,
          404.05120834522916,
          418.4795751525821,
          293.6428362541811,
          541.7480133110535,
          368.2939514748329,
          454.8641523189502,
          491.24872948531834,
          284.5466919625891,
          544.8846147909127,
          460.8236951306829,
          346.9650614117895,
          338.80989756415534,
          524.1830450238413,
          435.10356299583646,
          391.8184625737778,
          279.2144694468282,
          537.6704313872362,
          550.8441576026454,
          377.076435618439,
          303.366300841745,
          419.4205555965399,
          456.11879291089394,
          527.6333066516864,
          276.0778679669689,
          273.2549266350955,
          410.32441130494783,
          545.5119350868846,
          262.2768214555879,
          295.21113699411075,
          481.5252648977544,
          490.3077490413605,
          359.82512747921277,
          498.1492527410088,
          554.2944192304907,
          575.623309293534,
          462.70565601859846,
          433.84892240389274,
          565.8998447059702,
          383.97695887412954,
          284.2330318146031,
          448.59094935923156,
          441.0631058075692,
          523.5557247278693,
          366.41199058691734,
          424.7527781123007,
          531.3972284275176
         ]
        }
       ],
       "layout": {
        "template": {
         "data": {
          "bar": [
           {
            "error_x": {
             "color": "#2a3f5f"
            },
            "error_y": {
             "color": "#2a3f5f"
            },
            "marker": {
             "line": {
              "color": "#E5ECF6",
              "width": 0.5
             },
             "pattern": {
              "fillmode": "overlay",
              "size": 10,
              "solidity": 0.2
             }
            },
            "type": "bar"
           }
          ],
          "barpolar": [
           {
            "marker": {
             "line": {
              "color": "#E5ECF6",
              "width": 0.5
             },
             "pattern": {
              "fillmode": "overlay",
              "size": 10,
              "solidity": 0.2
             }
            },
            "type": "barpolar"
           }
          ],
          "carpet": [
           {
            "aaxis": {
             "endlinecolor": "#2a3f5f",
             "gridcolor": "white",
             "linecolor": "white",
             "minorgridcolor": "white",
             "startlinecolor": "#2a3f5f"
            },
            "baxis": {
             "endlinecolor": "#2a3f5f",
             "gridcolor": "white",
             "linecolor": "white",
             "minorgridcolor": "white",
             "startlinecolor": "#2a3f5f"
            },
            "type": "carpet"
           }
          ],
          "choropleth": [
           {
            "colorbar": {
             "outlinewidth": 0,
             "ticks": ""
            },
            "type": "choropleth"
           }
          ],
          "contour": [
           {
            "colorbar": {
             "outlinewidth": 0,
             "ticks": ""
            },
            "colorscale": [
             [
              0,
              "#0d0887"
             ],
             [
              0.1111111111111111,
              "#46039f"
             ],
             [
              0.2222222222222222,
              "#7201a8"
             ],
             [
              0.3333333333333333,
              "#9c179e"
             ],
             [
              0.4444444444444444,
              "#bd3786"
             ],
             [
              0.5555555555555556,
              "#d8576b"
             ],
             [
              0.6666666666666666,
              "#ed7953"
             ],
             [
              0.7777777777777778,
              "#fb9f3a"
             ],
             [
              0.8888888888888888,
              "#fdca26"
             ],
             [
              1,
              "#f0f921"
             ]
            ],
            "type": "contour"
           }
          ],
          "contourcarpet": [
           {
            "colorbar": {
             "outlinewidth": 0,
             "ticks": ""
            },
            "type": "contourcarpet"
           }
          ],
          "heatmap": [
           {
            "colorbar": {
             "outlinewidth": 0,
             "ticks": ""
            },
            "colorscale": [
             [
              0,
              "#0d0887"
             ],
             [
              0.1111111111111111,
              "#46039f"
             ],
             [
              0.2222222222222222,
              "#7201a8"
             ],
             [
              0.3333333333333333,
              "#9c179e"
             ],
             [
              0.4444444444444444,
              "#bd3786"
             ],
             [
              0.5555555555555556,
              "#d8576b"
             ],
             [
              0.6666666666666666,
              "#ed7953"
             ],
             [
              0.7777777777777778,
              "#fb9f3a"
             ],
             [
              0.8888888888888888,
              "#fdca26"
             ],
             [
              1,
              "#f0f921"
             ]
            ],
            "type": "heatmap"
           }
          ],
          "heatmapgl": [
           {
            "colorbar": {
             "outlinewidth": 0,
             "ticks": ""
            },
            "colorscale": [
             [
              0,
              "#0d0887"
             ],
             [
              0.1111111111111111,
              "#46039f"
             ],
             [
              0.2222222222222222,
              "#7201a8"
             ],
             [
              0.3333333333333333,
              "#9c179e"
             ],
             [
              0.4444444444444444,
              "#bd3786"
             ],
             [
              0.5555555555555556,
              "#d8576b"
             ],
             [
              0.6666666666666666,
              "#ed7953"
             ],
             [
              0.7777777777777778,
              "#fb9f3a"
             ],
             [
              0.8888888888888888,
              "#fdca26"
             ],
             [
              1,
              "#f0f921"
             ]
            ],
            "type": "heatmapgl"
           }
          ],
          "histogram": [
           {
            "marker": {
             "pattern": {
              "fillmode": "overlay",
              "size": 10,
              "solidity": 0.2
             }
            },
            "type": "histogram"
           }
          ],
          "histogram2d": [
           {
            "colorbar": {
             "outlinewidth": 0,
             "ticks": ""
            },
            "colorscale": [
             [
              0,
              "#0d0887"
             ],
             [
              0.1111111111111111,
              "#46039f"
             ],
             [
              0.2222222222222222,
              "#7201a8"
             ],
             [
              0.3333333333333333,
              "#9c179e"
             ],
             [
              0.4444444444444444,
              "#bd3786"
             ],
             [
              0.5555555555555556,
              "#d8576b"
             ],
             [
              0.6666666666666666,
              "#ed7953"
             ],
             [
              0.7777777777777778,
              "#fb9f3a"
             ],
             [
              0.8888888888888888,
              "#fdca26"
             ],
             [
              1,
              "#f0f921"
             ]
            ],
            "type": "histogram2d"
           }
          ],
          "histogram2dcontour": [
           {
            "colorbar": {
             "outlinewidth": 0,
             "ticks": ""
            },
            "colorscale": [
             [
              0,
              "#0d0887"
             ],
             [
              0.1111111111111111,
              "#46039f"
             ],
             [
              0.2222222222222222,
              "#7201a8"
             ],
             [
              0.3333333333333333,
              "#9c179e"
             ],
             [
              0.4444444444444444,
              "#bd3786"
             ],
             [
              0.5555555555555556,
              "#d8576b"
             ],
             [
              0.6666666666666666,
              "#ed7953"
             ],
             [
              0.7777777777777778,
              "#fb9f3a"
             ],
             [
              0.8888888888888888,
              "#fdca26"
             ],
             [
              1,
              "#f0f921"
             ]
            ],
            "type": "histogram2dcontour"
           }
          ],
          "mesh3d": [
           {
            "colorbar": {
             "outlinewidth": 0,
             "ticks": ""
            },
            "type": "mesh3d"
           }
          ],
          "parcoords": [
           {
            "line": {
             "colorbar": {
              "outlinewidth": 0,
              "ticks": ""
             }
            },
            "type": "parcoords"
           }
          ],
          "pie": [
           {
            "automargin": true,
            "type": "pie"
           }
          ],
          "scatter": [
           {
            "fillpattern": {
             "fillmode": "overlay",
             "size": 10,
             "solidity": 0.2
            },
            "type": "scatter"
           }
          ],
          "scatter3d": [
           {
            "line": {
             "colorbar": {
              "outlinewidth": 0,
              "ticks": ""
             }
            },
            "marker": {
             "colorbar": {
              "outlinewidth": 0,
              "ticks": ""
             }
            },
            "type": "scatter3d"
           }
          ],
          "scattercarpet": [
           {
            "marker": {
             "colorbar": {
              "outlinewidth": 0,
              "ticks": ""
             }
            },
            "type": "scattercarpet"
           }
          ],
          "scattergeo": [
           {
            "marker": {
             "colorbar": {
              "outlinewidth": 0,
              "ticks": ""
             }
            },
            "type": "scattergeo"
           }
          ],
          "scattergl": [
           {
            "marker": {
             "colorbar": {
              "outlinewidth": 0,
              "ticks": ""
             }
            },
            "type": "scattergl"
           }
          ],
          "scattermapbox": [
           {
            "marker": {
             "colorbar": {
              "outlinewidth": 0,
              "ticks": ""
             }
            },
            "type": "scattermapbox"
           }
          ],
          "scatterpolar": [
           {
            "marker": {
             "colorbar": {
              "outlinewidth": 0,
              "ticks": ""
             }
            },
            "type": "scatterpolar"
           }
          ],
          "scatterpolargl": [
           {
            "marker": {
             "colorbar": {
              "outlinewidth": 0,
              "ticks": ""
             }
            },
            "type": "scatterpolargl"
           }
          ],
          "scatterternary": [
           {
            "marker": {
             "colorbar": {
              "outlinewidth": 0,
              "ticks": ""
             }
            },
            "type": "scatterternary"
           }
          ],
          "surface": [
           {
            "colorbar": {
             "outlinewidth": 0,
             "ticks": ""
            },
            "colorscale": [
             [
              0,
              "#0d0887"
             ],
             [
              0.1111111111111111,
              "#46039f"
             ],
             [
              0.2222222222222222,
              "#7201a8"
             ],
             [
              0.3333333333333333,
              "#9c179e"
             ],
             [
              0.4444444444444444,
              "#bd3786"
             ],
             [
              0.5555555555555556,
              "#d8576b"
             ],
             [
              0.6666666666666666,
              "#ed7953"
             ],
             [
              0.7777777777777778,
              "#fb9f3a"
             ],
             [
              0.8888888888888888,
              "#fdca26"
             ],
             [
              1,
              "#f0f921"
             ]
            ],
            "type": "surface"
           }
          ],
          "table": [
           {
            "cells": {
             "fill": {
              "color": "#EBF0F8"
             },
             "line": {
              "color": "white"
             }
            },
            "header": {
             "fill": {
              "color": "#C8D4E3"
             },
             "line": {
              "color": "white"
             }
            },
            "type": "table"
           }
          ]
         },
         "layout": {
          "annotationdefaults": {
           "arrowcolor": "#2a3f5f",
           "arrowhead": 0,
           "arrowwidth": 1
          },
          "autotypenumbers": "strict",
          "coloraxis": {
           "colorbar": {
            "outlinewidth": 0,
            "ticks": ""
           }
          },
          "colorscale": {
           "diverging": [
            [
             0,
             "#8e0152"
            ],
            [
             0.1,
             "#c51b7d"
            ],
            [
             0.2,
             "#de77ae"
            ],
            [
             0.3,
             "#f1b6da"
            ],
            [
             0.4,
             "#fde0ef"
            ],
            [
             0.5,
             "#f7f7f7"
            ],
            [
             0.6,
             "#e6f5d0"
            ],
            [
             0.7,
             "#b8e186"
            ],
            [
             0.8,
             "#7fbc41"
            ],
            [
             0.9,
             "#4d9221"
            ],
            [
             1,
             "#276419"
            ]
           ],
           "sequential": [
            [
             0,
             "#0d0887"
            ],
            [
             0.1111111111111111,
             "#46039f"
            ],
            [
             0.2222222222222222,
             "#7201a8"
            ],
            [
             0.3333333333333333,
             "#9c179e"
            ],
            [
             0.4444444444444444,
             "#bd3786"
            ],
            [
             0.5555555555555556,
             "#d8576b"
            ],
            [
             0.6666666666666666,
             "#ed7953"
            ],
            [
             0.7777777777777778,
             "#fb9f3a"
            ],
            [
             0.8888888888888888,
             "#fdca26"
            ],
            [
             1,
             "#f0f921"
            ]
           ],
           "sequentialminus": [
            [
             0,
             "#0d0887"
            ],
            [
             0.1111111111111111,
             "#46039f"
            ],
            [
             0.2222222222222222,
             "#7201a8"
            ],
            [
             0.3333333333333333,
             "#9c179e"
            ],
            [
             0.4444444444444444,
             "#bd3786"
            ],
            [
             0.5555555555555556,
             "#d8576b"
            ],
            [
             0.6666666666666666,
             "#ed7953"
            ],
            [
             0.7777777777777778,
             "#fb9f3a"
            ],
            [
             0.8888888888888888,
             "#fdca26"
            ],
            [
             1,
             "#f0f921"
            ]
           ]
          },
          "colorway": [
           "#636efa",
           "#EF553B",
           "#00cc96",
           "#ab63fa",
           "#FFA15A",
           "#19d3f3",
           "#FF6692",
           "#B6E880",
           "#FF97FF",
           "#FECB52"
          ],
          "font": {
           "color": "#2a3f5f"
          },
          "geo": {
           "bgcolor": "white",
           "lakecolor": "white",
           "landcolor": "#E5ECF6",
           "showlakes": true,
           "showland": true,
           "subunitcolor": "white"
          },
          "hoverlabel": {
           "align": "left"
          },
          "hovermode": "closest",
          "mapbox": {
           "style": "light"
          },
          "paper_bgcolor": "white",
          "plot_bgcolor": "#E5ECF6",
          "polar": {
           "angularaxis": {
            "gridcolor": "white",
            "linecolor": "white",
            "ticks": ""
           },
           "bgcolor": "#E5ECF6",
           "radialaxis": {
            "gridcolor": "white",
            "linecolor": "white",
            "ticks": ""
           }
          },
          "scene": {
           "xaxis": {
            "backgroundcolor": "#E5ECF6",
            "gridcolor": "white",
            "gridwidth": 2,
            "linecolor": "white",
            "showbackground": true,
            "ticks": "",
            "zerolinecolor": "white"
           },
           "yaxis": {
            "backgroundcolor": "#E5ECF6",
            "gridcolor": "white",
            "gridwidth": 2,
            "linecolor": "white",
            "showbackground": true,
            "ticks": "",
            "zerolinecolor": "white"
           },
           "zaxis": {
            "backgroundcolor": "#E5ECF6",
            "gridcolor": "white",
            "gridwidth": 2,
            "linecolor": "white",
            "showbackground": true,
            "ticks": "",
            "zerolinecolor": "white"
           }
          },
          "shapedefaults": {
           "line": {
            "color": "#2a3f5f"
           }
          },
          "ternary": {
           "aaxis": {
            "gridcolor": "white",
            "linecolor": "white",
            "ticks": ""
           },
           "baxis": {
            "gridcolor": "white",
            "linecolor": "white",
            "ticks": ""
           },
           "bgcolor": "#E5ECF6",
           "caxis": {
            "gridcolor": "white",
            "linecolor": "white",
            "ticks": ""
           }
          },
          "title": {
           "x": 0.05
          },
          "xaxis": {
           "automargin": true,
           "gridcolor": "white",
           "linecolor": "white",
           "ticks": "",
           "title": {
            "standoff": 15
           },
           "zerolinecolor": "white",
           "zerolinewidth": 2
          },
          "yaxis": {
           "automargin": true,
           "gridcolor": "white",
           "linecolor": "white",
           "ticks": "",
           "title": {
            "standoff": 15
           },
           "zerolinecolor": "white",
           "zerolinewidth": 2
          }
         }
        },
        "title": {
         "text": "Stock Prices"
        },
        "xaxis": {
         "title": {
          "font": {
           "family": "Courier New, monospace",
           "size": 18
          },
          "text": "Day"
         }
        }
       }
      },
      "text/html": [
       "<div>                            <div id=\"1168b685-c82b-4af0-8133-9bee97591d44\" class=\"plotly-graph-div\" style=\"height:525px; width:100%;\"></div>            <script type=\"text/javascript\">                require([\"plotly\"], function(Plotly) {                    window.PLOTLYENV=window.PLOTLYENV || {};                                    if (document.getElementById(\"1168b685-c82b-4af0-8133-9bee97591d44\")) {                    Plotly.newPlot(                        \"1168b685-c82b-4af0-8133-9bee97591d44\",                        [{\"mode\":\"markers\",\"name\":\"Actual\",\"x\":[577,475,160,259,877,332,433,438,428,749,907,474,940,485,364,713,278,178,720,945,975,57,780,159,762,935,645,583,598,621,715,317,255,669,603,551,447,385,19,351,342,754,666,156,597,345,823,282,301,856,286,633,752,450,165,312,753,472,372,414,604,166,930,324,283,929,879,181,78,782,382,875,427,95,897,349,812,755,652,170,527,844,91,683,784,920,492,581,756,200,876,553,70,791,43,292,199,660,742,426,296,143,952,133,948,853,51,44,775,767,315,243,1005,411,631,873,504,193,222,719,220,271,13,431,630,866,211,17,153,826,843,14,73,955,807,443,706,716,93,792,344,802,995,926,215,521,396,387,480,150,967,511,297,152,798,302,724,494,919,1003,781,169,415,891,608,45,409,744,112,398,602,277,972,496,590,380,679,437,773,646,913,912,310,390,541,405,102,712,238,25,914,559,430,158,20,289,587,330,758,376,635,710,502,743,978,453,119,606,588,251,579,647,594,444,954,401,816,245,145,350,694,829,611,899,221,311,515,85,817,671,177,108,242,684,115,35,441,549,546,1,634,490,848,571,101,662,751,369,878,11,456,1002,223,537,163,921,764,422,769,359,488,997,192,733,208,902,882,991,97,880,377,22,554,348,518,889,591,88,50,592,770,869,705,657,566,232,578,970,26,469,868,663,697,487,862,122,96,190,923,596,455,144,842,871,87,412,270,658,61,484,708,580,79,129,811,67,564,125,649,678,804,609,813,219,987,395,309,836,285,370,815,828,692,404,280,397,253,52,561,860,654,696,872,358,589,82,928,217,305,990,539,788,711,356,94,383,254,235,535,465,21,917,149,470,797,508,558,643,46,461,850,451,226,207,675,244,357,71,366,229,103,262,632,197,505,709,250,526,303,340,985,3,540,980,478,625,394,507,92,962,570,946,386,685,137,214,741,47,686,855,922,794,378,854,776,276,943,499,10,542,419,498,1000,703,892,959,664,865,463,203,760,273,140,362,628,512,300,911,951,327,964,402,953,329,750,294,615,440,436,971,519,831,284,99,676,574,264,239,457,503,105,896,343,619,735,76,906,638,275,249,840,556,418,59,883,925,371,136,506,623,851,49,40,477,908,5,110,704,732,316,757,936,1004,644,552,973,393,75,599,575,838,337,523,863],\"y\":[436.25,333.200012,369.609985,356.869995,517.570007,336.630005,271.5,287.410004,293.350006,523.280029,589.289978,333.100006,674.049988,335.660004,325.209991,497.519989,361.459991,346.709991,522.419983,668.400024,586.72998,311.76001,518.02002,361.190002,557.280029,653.159973,526.27002,425.920013,468.040009,480.450012,515.780029,361.040009,345.730011,527.51001,447.23999,426.75,283.109985,302.799988,315.0,367.320007,350.619995,539.450012,490.649994,367.649994,453.720001,365.209991,486.660004,377.869995,354.73999,528.210022,353.369995,466.929993,539.039978,302.570007,381.429993,385.029999,548.159973,332.220001,325.929993,263.079987,455.040009,377.140015,633.799988,354.269989,361.01001,629.76001,510.820007,333.160004,349.730011,524.030029,312.279999,519.299988,286.279999,415.440002,558.919983,362.200012,506.519989,552.159973,507.019989,349.100006,349.920013,499.890015,391.980011,489.049988,504.790009,610.340027,338.109985,413.440002,550.789978,270.600006,514.25,422.959991,328.190002,513.950012,289.929993,367.880005,286.209991,469.959991,497.980011,284.25,363.920013,368.040009,679.330017,326.399994,655.98999,527.070007,332.700012,298.070007,516.390015,546.150024,364.369995,326.670013,457.130005,254.589996,494.730011,516.48999,366.950012,317.920013,246.389999,503.220001,266.769989,359.609985,285.929993,266.690002,509.079987,542.950012,282.880005,290.390015,368.149994,486.279999,488.769989,294.160004,331.820007,682.02002,508.899994,289.570007,476.619995,512.659973,404.980011,513.390015,363.519989,540.02002,510.799988,632.659973,274.880005,368.769989,289.290009,298.98999,329.809998,348.410004,625.580017,387.779999,367.649994,369.950012,554.580017,360.350006,534.450012,349.600006,599.059998,384.359985,520.25,351.350006,267.619995,543.710022,493.160004,303.670013,270.75,586.340027,379.480011,293.25,443.399994,358.820007,597.98999,342.880005,434.480011,308.929993,541.940002,291.450012,520.700012,523.890015,573.140015,575.429993,378.809998,291.440002,375.5,294.290009,398.179993,503.380005,351.390015,315.880005,590.650024,421.380005,278.049988,365.359985,325.220001,366.959991,419.600006,351.850006,559.070007,307.630005,481.329987,490.700012,369.01001,501.769989,614.23999,311.690002,363.089996,476.890015,419.48999,355.809998,414.769989,529.559998,436.130005,291.570007,691.690002,287.98999,503.179993,335.660004,367.679993,370.019989,513.76001,497.890015,548.72998,569.190002,260.579987,379.059998,368.700012,361.399994,496.079987,520.650024,364.700012,418.649994,321.98999,485.230011,361.049988,300.690002,288.029999,396.720001,372.279999,265.720001,475.470001,338.619995,500.769989,438.269989,391.429993,491.170013,532.390015,326.459991,515.150024,281.040009,312.48999,386.700012,233.880005,342.390015,380.709991,613.150024,548.219971,267.529999,546.700012,379.5,338.690002,508.25,327.5,522.859985,286.130005,590.530029,520.549988,540.840027,384.480011,517.349976,310.100006,317.0,437.48999,360.299988,371.709991,518.909973,425.559998,363.829987,334.519989,418.070007,538.849976,531.049988,488.23999,495.98999,434.26001,320.269989,429.320007,611.659973,321.549988,304.209991,532.280029,470.609985,480.23999,338.920013,535.97998,337.450012,411.089996,315.440002,634.809998,449.869995,315.549988,370.980011,487.269989,511.769989,361.450012,264.75,354.299988,483.859985,311.690002,339.26001,485.0,419.890015,353.540009,349.359985,505.549988,326.459991,428.149994,343.089996,552.840027,541.450012,546.539978,502.779999,509.0,270.940002,567.52002,293.75,370.540009,499.23999,359.970001,335.779999,509.109985,501.670013,487.220001,294.149994,358.779999,291.519989,344.709991,327.769989,411.890015,535.960022,480.670013,470.5,515.409973,381.0,434.049988,361.809998,624.940002,266.839996,374.230011,539.849976,357.119995,520.809998,504.579987,376.160004,416.76001,299.109985,347.570007,337.589996,360.269989,293.119995,321.160004,592.640015,348.679993,315.480011,546.98999,380.01001,424.98999,490.579987,309.25,304.320007,508.820007,302.600006,256.079987,288.75,539.440002,338.049988,379.929993,325.220001,310.619995,271.200012,390.519989,356.970001,483.380005,286.730011,366.769989,491.359985,351.339996,364.130005,377.339996,343.429993,597.369995,250.100006,370.959991,613.119995,323.309998,485.799988,296.779999,373.690002,390.399994,641.900024,431.820007,645.719971,309.380005,488.279999,338.019989,265.320007,500.859985,311.649994,488.23999,533.5,603.349976,539.419983,304.290009,533.030029,493.329987,361.209991,677.719971,347.73999,278.549988,364.079987,272.790009,343.160004,366.420013,481.790009,546.880005,658.289978,473.079987,547.950012,307.350006,258.820007,557.590027,349.600006,358.820007,365.98999,509.640015,386.190002,359.459991,589.349976,682.609985,354.390015,616.469971,288.269989,687.400024,349.190002,538.599976,361.410004,527.390015,292.859985,281.209991,604.559998,369.029999,501.339996,366.230011,390.390015,539.809998,452.579987,363.910004,353.190002,315.929993,369.670013,408.25,550.119995,357.119995,489.820007,500.48999,349.290009,598.719971,491.869995,356.269989,339.850006,492.390015,421.420013,268.149994,313.299988,519.969971,631.849976,332.700012,327.730011,371.070007,488.51001,512.73999,336.059998,288.940002,329.089996,577.76001,257.950012,395.799988,484.670013,540.72998,362.75,547.919983,664.780029,427.140015,547.530029,439.170013,605.039978,291.769989,344.720001,466.26001,451.040009,494.73999,352.01001,372.779999,537.309998],\"type\":\"scatter\"},{\"mode\":\"lines\",\"name\":\"Predicted\",\"x\":[577,475,160,259,877,332,433,438,428,749,907,474,940,485,364,713,278,178,720,945,975,57,780,159,762,935,645,583,598,621,715,317,255,669,603,551,447,385,19,351,342,754,666,156,597,345,823,282,301,856,286,633,752,450,165,312,753,472,372,414,604,166,930,324,283,929,879,181,78,782,382,875,427,95,897,349,812,755,652,170,527,844,91,683,784,920,492,581,756,200,876,553,70,791,43,292,199,660,742,426,296,143,952,133,948,853,51,44,775,767,315,243,1005,411,631,873,504,193,222,719,220,271,13,431,630,866,211,17,153,826,843,14,73,955,807,443,706,716,93,792,344,802,995,926,215,521,396,387,480,150,967,511,297,152,798,302,724,494,919,1003,781,169,415,891,608,45,409,744,112,398,602,277,972,496,590,380,679,437,773,646,913,912,310,390,541,405,102,712,238,25,914,559,430,158,20,289,587,330,758,376,635,710,502,743,978,453,119,606,588,251,579,647,594,444,954,401,816,245,145,350,694,829,611,899,221,311,515,85,817,671,177,108,242,684,115,35,441,549,546,1,634,490,848,571,101,662,751,369,878,11,456,1002,223,537,163,921,764,422,769,359,488,997,192,733,208,902,882,991,97,880,377,22,554,348,518,889,591,88,50,592,770,869,705,657,566,232,578,970,26,469,868,663,697,487,862,122,96,190,923,596,455,144,842,871,87,412,270,658,61,484,708,580,79,129,811,67,564,125,649,678,804,609,813,219,987,395,309,836,285,370,815,828,692,404,280,397,253,52,561,860,654,696,872,358,589,82,928,217,305,990,539,788,711,356,94,383,254,235,535,465,21,917,149,470,797,508,558,643,46,461,850,451,226,207,675,244,357,71,366,229,103,262,632,197,505,709,250,526,303,340,985,3,540,980,478,625,394,507,92,962,570,946,386,685,137,214,741,47,686,855,922,794,378,854,776,276,943,499,10,542,419,498,1000,703,892,959,664,865,463,203,760,273,140,362,628,512,300,911,951,327,964,402,953,329,750,294,615,440,436,971,519,831,284,99,676,574,264,239,457,503,105,896,343,619,735,76,906,638,275,249,840,556,418,59,883,925,371,136,506,623,851,49,40,477,908,5,110,704,732,316,757,936,1004,644,552,973,393,75,599,575,838,337,523,863],\"y\":[441.69042610354103,409.697091008976,310.8941443934074,341.9464990440146,535.7884704993207,364.8436898469877,396.5233647935668,398.09166553349644,394.95506405363716,495.6399715571214,545.1982749388986,409.3834308609901,555.5490598224344,412.83369248883525,374.8808145825375,484.3482062296278,347.90604185574733,316.54002705715413,486.54382726552933,557.1173605623641,566.527165001942,278.58714915085636,505.36343614468524,310.5804842454214,499.7175534809385,553.9807590825047,463.0193161665844,443.5723869914566,448.2772892112456,455.49147261492203,484.97552652559966,360.13878762719867,340.6918584520709,470.5471597182468,449.84558995117527,433.5352622559068,400.9146068653699,381.46767769024206,266.6680635273909,370.8032326587204,367.980291326847,497.20827229705105,469.606179274289,309.6395038014636,447.96362906325965,368.92127177080476,518.8508225080803,349.1606824476911,355.12022525942376,529.2016073916161,350.4153230396348,459.2553943907532,496.58095200107914,401.8555873093277,312.462445133337,358.570486887269,496.8946121490651,408.75611056501816,377.39009576642496,390.5638219818341,450.1592500991612,312.77610528132294,552.4124583425751,362.33440866310025,349.474342595677,552.0987981945891,536.4157907952925,317.48100750111195,285.17401225856094,505.99075644065715,380.52669724628424,535.1611502033488,394.64140390565126,290.50623477432174,542.0616734590393,370.17591236274853,515.400560880235,497.52193244503695,465.21493720248594,314.03074587326665,426.0074187042444,525.4376856157849,289.251594182378,474.93840179004985,506.61807673662895,549.2758568627157,415.02931352473684,442.9450666954848,497.83559259302285,323.4405503128446,535.4748103513348,434.1625825518787,282.66473107467345,508.81369777253053,274.1959070790533,352.2972839275504,323.1268901648587,467.7242183863734,493.4443505212198,394.3277437576653,353.55192451949415,305.5619218776465,559.3129815982657,302.4253203977872,558.0583410063218,528.2606269476582,276.70518826294074,274.5095672270392,503.79513540475557,501.28585422086815,359.5114673312268,336.9279366762397,575.93696944152,389.6228415378763,458.62807409478137,534.5338299073769,418.79323530056797,321.24492927694314,330.34107356853514,486.2301671175434,329.7137532725633,345.7104208198458,264.7861026394753,395.89604449759497,458.3144139467954,532.3382088714754,326.8908119406899,266.04074323141907,308.6985233575058,519.7918029520381,525.1240254677989,265.09976278746126,283.60571151863127,560.2539620422234,513.8322601403054,399.6599662734261,482.1525851937263,485.2891866735856,289.8789144783499,509.12735792051643,368.60761162281887,512.2639594003758,572.8003679616606,551.1578177506314,328.1454525326336,424.12545781632883,384.9179393180873,382.0949979862139,411.2653917489056,307.75754291354804,564.0178838180545,420.98885633646955,353.86558466748005,308.3848632095199,511.009318808432,355.4338854074097,487.79846785747304,415.65663382070863,548.9621967147298,575.3096491455481,505.6770962926712,313.71708572528075,390.87748212982,540.1797125711237,451.41389069110494,274.82322737502517,388.99552124190444,494.0716708171917,295.8384572900826,385.5452596140592,449.5319298031893,347.59238170776143,565.5861845579842,416.28395411668055,445.7680080273582,379.89937695031244,473.68376119810614,397.77800538551054,503.16781510878377,463.3329763145704,547.0802358268143,546.7665756788283,357.9431665912972,383.0359784301717,430.39866077604745,387.74088064996073,292.70185581022326,484.0345460816419,335.35963593631004,268.5500244153065,547.3938959748002,436.04454343979427,395.582384349609,310.26682409743546,266.9817236753768,351.35630348359257,444.82702758340037,364.2163695510158,498.46291288899477,378.6447363583687,459.8827146867251,483.40722578567,418.1659150045962,493.75801066920576,567.4681454458998,402.79656775328544,298.0340783259841,450.7865703951331,445.14068773138627,339.4372178601272,442.3177463995129,463.64663646255633,447.0226486193019,399.97362642141206,559.9403018942375,386.48624005801696,516.6552014721788,337.55525697221157,306.18924217361837,370.48957251073443,478.3886634178951,520.732783395996,452.3548711350627,542.6889937550111,330.02741342054924,358.2568267392831,422.24349692841326,287.36963329446246,516.9688616201647,471.17448001421866,316.2263669091682,294.5838166981389,336.61427652825375,475.2520619380358,296.7794377340404,271.68662589516583,399.0326459774543,432.90794195993493,431.9669615159771,261.02218086364417,459.5690545387392,414.4019932287649,526.6923262077287,439.80846521562546,292.38819566223737,468.3515386823453,496.26729185309324,376.44911532246715,536.1021306473066,264.15878234350345,403.73754819724326,574.9959889975621,330.65473371652104,429.14402018410374,311.83512483736513,549.5895170107017,500.34487377691033,393.0731031657216,501.91317451684,373.3125138426078,413.7746729327931,573.4276882576326,320.9312691289572,490.6214091893464,325.9498314967321,543.629974198969,537.3567712392503,571.5457273697169,291.1335550702936,536.7294509432785,378.95839650635463,267.60904397134874,434.4762426998646,369.8622522147626,423.184477372371,539.5523922751519,446.0816681753441,288.3106137384202,276.39152811495484,446.39532832333003,502.2268346648259,533.2791893154332,481.8389250457403,466.7832379424156,438.2401644756958,333.4776750483945,442.004086251527,564.9588642620124,268.86368456329245,407.8151301210604,532.9655291674474,468.6651988303312,479.3296438618529,413.46101278480717,531.0835682795316,298.97505876994194,290.8198949223077,320.3039488329853,550.2168373066736,447.64996891527375,403.42388804925736,305.8755820256324,524.8103653198131,533.906509611405,287.9969535904343,389.93650168586225,345.39676067185985,467.0968980904015,279.8417897428001,412.52003234084935,482.77990548969814,442.63140654749884,285.48767240654684,301.17067980584346,515.0869007322492,281.72375063071564,437.61284417972394,299.9160392138997,464.27395675852813,473.3701010501202,512.8912796963476,451.7275508390909,515.714221028221,329.4000931245773,570.2910867777732,384.6042791701014,357.62950644331124,522.9284044318974,350.10166289164886,376.7627754704531,516.3415413241929,520.41912324801,477.76134312192323,387.4272205019748,348.5333621517192,385.23159946607325,340.06453815609905,277.0188484109267,436.6718637357661,530.4562479835598,465.8422574984578,479.01598371386694,534.220169759391,372.9988536946219,445.4543478793722,286.42865285050465,551.7851380466032,328.77277282860547,356.37486585136753,571.2320672217311,429.77134048007565,507.8727173285727,483.72088593365595,372.37153339865006,290.19257462633584,380.8403573942702,340.37819830408495,334.4186554923523,428.5166998881319,406.56048952911664,267.2953838233628,548.334876418758,307.4438827655621,408.1287902690463,510.6956586604461,420.0478758925117,435.73088329180837,462.39199587061256,275.13688752301107,405.3058489371729,527.3196465037005,402.1692474573136,331.59571416047885,325.6361713487462,472.4291206061624,337.24159682422567,372.68519354663596,282.9783912226594,375.5081348785094,332.53669460443666,293.0155159582092,342.8874794879724,458.9417342427673,322.49956986888685,419.1068954485539,483.09356563768404,339.12355771214123,425.6937585562585,355.7475455553956,367.3529710308751,569.6637664818013,261.649501159616,430.08500062806155,568.0954657418717,410.6380714529338,456.74611320686574,384.2906190221155,419.7342157445258,289.565254330364,562.449583078125,439.4948050676395,557.4310207103499,381.781337838228,475.5657220860217,303.6799609897309,327.83179238464766,493.1306903732339,275.450547670997,475.8793822340076,528.8879472436302,549.9031771586876,509.7546782164883,379.27205665434053,528.5742870956442,504.1087955527415,347.2787215597755,556.4900402663923,417.2249345606383,263.84512219551755,430.7123209240334,392.1321227217638,416.9112744126524,574.3686687015903,481.2116047497685,540.4933727191096,561.5086026341671,468.97885897831713,532.0245487234895,405.9331692331448,324.3815307568024,499.0902331849666,346.33774111581766,304.6209414336887,374.2534942865656,457.6870936508236,421.30251648445545,354.80656511143786,546.4529155308423,558.9993214502797,363.275389107058,563.0769033740968,386.7999002060029,559.6266417462515,363.90270940302986,495.9536317051073,352.92460422352224,453.60951172700646,398.71898582946835,397.46434523752464,565.2725244099984,423.498137520357,521.3601036919679,349.7880027436629,291.7608753662655,472.7427807541483,440.7494456595832,343.5147997839443,335.673296084296,404.05120834522916,418.4795751525821,293.6428362541811,541.7480133110535,368.2939514748329,454.8641523189502,491.24872948531834,284.5466919625891,544.8846147909127,460.8236951306829,346.9650614117895,338.80989756415534,524.1830450238413,435.10356299583646,391.8184625737778,279.2144694468282,537.6704313872362,550.8441576026454,377.076435618439,303.366300841745,419.4205555965399,456.11879291089394,527.6333066516864,276.0778679669689,273.2549266350955,410.32441130494783,545.5119350868846,262.2768214555879,295.21113699411075,481.5252648977544,490.3077490413605,359.82512747921277,498.1492527410088,554.2944192304907,575.623309293534,462.70565601859846,433.84892240389274,565.8998447059702,383.97695887412954,284.2330318146031,448.59094935923156,441.0631058075692,523.5557247278693,366.41199058691734,424.7527781123007,531.3972284275176],\"type\":\"scatter\"}],                        {\"template\":{\"data\":{\"barpolar\":[{\"marker\":{\"line\":{\"color\":\"#E5ECF6\",\"width\":0.5},\"pattern\":{\"fillmode\":\"overlay\",\"size\":10,\"solidity\":0.2}},\"type\":\"barpolar\"}],\"bar\":[{\"error_x\":{\"color\":\"#2a3f5f\"},\"error_y\":{\"color\":\"#2a3f5f\"},\"marker\":{\"line\":{\"color\":\"#E5ECF6\",\"width\":0.5},\"pattern\":{\"fillmode\":\"overlay\",\"size\":10,\"solidity\":0.2}},\"type\":\"bar\"}],\"carpet\":[{\"aaxis\":{\"endlinecolor\":\"#2a3f5f\",\"gridcolor\":\"white\",\"linecolor\":\"white\",\"minorgridcolor\":\"white\",\"startlinecolor\":\"#2a3f5f\"},\"baxis\":{\"endlinecolor\":\"#2a3f5f\",\"gridcolor\":\"white\",\"linecolor\":\"white\",\"minorgridcolor\":\"white\",\"startlinecolor\":\"#2a3f5f\"},\"type\":\"carpet\"}],\"choropleth\":[{\"colorbar\":{\"outlinewidth\":0,\"ticks\":\"\"},\"type\":\"choropleth\"}],\"contourcarpet\":[{\"colorbar\":{\"outlinewidth\":0,\"ticks\":\"\"},\"type\":\"contourcarpet\"}],\"contour\":[{\"colorbar\":{\"outlinewidth\":0,\"ticks\":\"\"},\"colorscale\":[[0.0,\"#0d0887\"],[0.1111111111111111,\"#46039f\"],[0.2222222222222222,\"#7201a8\"],[0.3333333333333333,\"#9c179e\"],[0.4444444444444444,\"#bd3786\"],[0.5555555555555556,\"#d8576b\"],[0.6666666666666666,\"#ed7953\"],[0.7777777777777778,\"#fb9f3a\"],[0.8888888888888888,\"#fdca26\"],[1.0,\"#f0f921\"]],\"type\":\"contour\"}],\"heatmapgl\":[{\"colorbar\":{\"outlinewidth\":0,\"ticks\":\"\"},\"colorscale\":[[0.0,\"#0d0887\"],[0.1111111111111111,\"#46039f\"],[0.2222222222222222,\"#7201a8\"],[0.3333333333333333,\"#9c179e\"],[0.4444444444444444,\"#bd3786\"],[0.5555555555555556,\"#d8576b\"],[0.6666666666666666,\"#ed7953\"],[0.7777777777777778,\"#fb9f3a\"],[0.8888888888888888,\"#fdca26\"],[1.0,\"#f0f921\"]],\"type\":\"heatmapgl\"}],\"heatmap\":[{\"colorbar\":{\"outlinewidth\":0,\"ticks\":\"\"},\"colorscale\":[[0.0,\"#0d0887\"],[0.1111111111111111,\"#46039f\"],[0.2222222222222222,\"#7201a8\"],[0.3333333333333333,\"#9c179e\"],[0.4444444444444444,\"#bd3786\"],[0.5555555555555556,\"#d8576b\"],[0.6666666666666666,\"#ed7953\"],[0.7777777777777778,\"#fb9f3a\"],[0.8888888888888888,\"#fdca26\"],[1.0,\"#f0f921\"]],\"type\":\"heatmap\"}],\"histogram2dcontour\":[{\"colorbar\":{\"outlinewidth\":0,\"ticks\":\"\"},\"colorscale\":[[0.0,\"#0d0887\"],[0.1111111111111111,\"#46039f\"],[0.2222222222222222,\"#7201a8\"],[0.3333333333333333,\"#9c179e\"],[0.4444444444444444,\"#bd3786\"],[0.5555555555555556,\"#d8576b\"],[0.6666666666666666,\"#ed7953\"],[0.7777777777777778,\"#fb9f3a\"],[0.8888888888888888,\"#fdca26\"],[1.0,\"#f0f921\"]],\"type\":\"histogram2dcontour\"}],\"histogram2d\":[{\"colorbar\":{\"outlinewidth\":0,\"ticks\":\"\"},\"colorscale\":[[0.0,\"#0d0887\"],[0.1111111111111111,\"#46039f\"],[0.2222222222222222,\"#7201a8\"],[0.3333333333333333,\"#9c179e\"],[0.4444444444444444,\"#bd3786\"],[0.5555555555555556,\"#d8576b\"],[0.6666666666666666,\"#ed7953\"],[0.7777777777777778,\"#fb9f3a\"],[0.8888888888888888,\"#fdca26\"],[1.0,\"#f0f921\"]],\"type\":\"histogram2d\"}],\"histogram\":[{\"marker\":{\"pattern\":{\"fillmode\":\"overlay\",\"size\":10,\"solidity\":0.2}},\"type\":\"histogram\"}],\"mesh3d\":[{\"colorbar\":{\"outlinewidth\":0,\"ticks\":\"\"},\"type\":\"mesh3d\"}],\"parcoords\":[{\"line\":{\"colorbar\":{\"outlinewidth\":0,\"ticks\":\"\"}},\"type\":\"parcoords\"}],\"pie\":[{\"automargin\":true,\"type\":\"pie\"}],\"scatter3d\":[{\"line\":{\"colorbar\":{\"outlinewidth\":0,\"ticks\":\"\"}},\"marker\":{\"colorbar\":{\"outlinewidth\":0,\"ticks\":\"\"}},\"type\":\"scatter3d\"}],\"scattercarpet\":[{\"marker\":{\"colorbar\":{\"outlinewidth\":0,\"ticks\":\"\"}},\"type\":\"scattercarpet\"}],\"scattergeo\":[{\"marker\":{\"colorbar\":{\"outlinewidth\":0,\"ticks\":\"\"}},\"type\":\"scattergeo\"}],\"scattergl\":[{\"marker\":{\"colorbar\":{\"outlinewidth\":0,\"ticks\":\"\"}},\"type\":\"scattergl\"}],\"scattermapbox\":[{\"marker\":{\"colorbar\":{\"outlinewidth\":0,\"ticks\":\"\"}},\"type\":\"scattermapbox\"}],\"scatterpolargl\":[{\"marker\":{\"colorbar\":{\"outlinewidth\":0,\"ticks\":\"\"}},\"type\":\"scatterpolargl\"}],\"scatterpolar\":[{\"marker\":{\"colorbar\":{\"outlinewidth\":0,\"ticks\":\"\"}},\"type\":\"scatterpolar\"}],\"scatter\":[{\"fillpattern\":{\"fillmode\":\"overlay\",\"size\":10,\"solidity\":0.2},\"type\":\"scatter\"}],\"scatterternary\":[{\"marker\":{\"colorbar\":{\"outlinewidth\":0,\"ticks\":\"\"}},\"type\":\"scatterternary\"}],\"surface\":[{\"colorbar\":{\"outlinewidth\":0,\"ticks\":\"\"},\"colorscale\":[[0.0,\"#0d0887\"],[0.1111111111111111,\"#46039f\"],[0.2222222222222222,\"#7201a8\"],[0.3333333333333333,\"#9c179e\"],[0.4444444444444444,\"#bd3786\"],[0.5555555555555556,\"#d8576b\"],[0.6666666666666666,\"#ed7953\"],[0.7777777777777778,\"#fb9f3a\"],[0.8888888888888888,\"#fdca26\"],[1.0,\"#f0f921\"]],\"type\":\"surface\"}],\"table\":[{\"cells\":{\"fill\":{\"color\":\"#EBF0F8\"},\"line\":{\"color\":\"white\"}},\"header\":{\"fill\":{\"color\":\"#C8D4E3\"},\"line\":{\"color\":\"white\"}},\"type\":\"table\"}]},\"layout\":{\"annotationdefaults\":{\"arrowcolor\":\"#2a3f5f\",\"arrowhead\":0,\"arrowwidth\":1},\"autotypenumbers\":\"strict\",\"coloraxis\":{\"colorbar\":{\"outlinewidth\":0,\"ticks\":\"\"}},\"colorscale\":{\"diverging\":[[0,\"#8e0152\"],[0.1,\"#c51b7d\"],[0.2,\"#de77ae\"],[0.3,\"#f1b6da\"],[0.4,\"#fde0ef\"],[0.5,\"#f7f7f7\"],[0.6,\"#e6f5d0\"],[0.7,\"#b8e186\"],[0.8,\"#7fbc41\"],[0.9,\"#4d9221\"],[1,\"#276419\"]],\"sequential\":[[0.0,\"#0d0887\"],[0.1111111111111111,\"#46039f\"],[0.2222222222222222,\"#7201a8\"],[0.3333333333333333,\"#9c179e\"],[0.4444444444444444,\"#bd3786\"],[0.5555555555555556,\"#d8576b\"],[0.6666666666666666,\"#ed7953\"],[0.7777777777777778,\"#fb9f3a\"],[0.8888888888888888,\"#fdca26\"],[1.0,\"#f0f921\"]],\"sequentialminus\":[[0.0,\"#0d0887\"],[0.1111111111111111,\"#46039f\"],[0.2222222222222222,\"#7201a8\"],[0.3333333333333333,\"#9c179e\"],[0.4444444444444444,\"#bd3786\"],[0.5555555555555556,\"#d8576b\"],[0.6666666666666666,\"#ed7953\"],[0.7777777777777778,\"#fb9f3a\"],[0.8888888888888888,\"#fdca26\"],[1.0,\"#f0f921\"]]},\"colorway\":[\"#636efa\",\"#EF553B\",\"#00cc96\",\"#ab63fa\",\"#FFA15A\",\"#19d3f3\",\"#FF6692\",\"#B6E880\",\"#FF97FF\",\"#FECB52\"],\"font\":{\"color\":\"#2a3f5f\"},\"geo\":{\"bgcolor\":\"white\",\"lakecolor\":\"white\",\"landcolor\":\"#E5ECF6\",\"showlakes\":true,\"showland\":true,\"subunitcolor\":\"white\"},\"hoverlabel\":{\"align\":\"left\"},\"hovermode\":\"closest\",\"mapbox\":{\"style\":\"light\"},\"paper_bgcolor\":\"white\",\"plot_bgcolor\":\"#E5ECF6\",\"polar\":{\"angularaxis\":{\"gridcolor\":\"white\",\"linecolor\":\"white\",\"ticks\":\"\"},\"bgcolor\":\"#E5ECF6\",\"radialaxis\":{\"gridcolor\":\"white\",\"linecolor\":\"white\",\"ticks\":\"\"}},\"scene\":{\"xaxis\":{\"backgroundcolor\":\"#E5ECF6\",\"gridcolor\":\"white\",\"gridwidth\":2,\"linecolor\":\"white\",\"showbackground\":true,\"ticks\":\"\",\"zerolinecolor\":\"white\"},\"yaxis\":{\"backgroundcolor\":\"#E5ECF6\",\"gridcolor\":\"white\",\"gridwidth\":2,\"linecolor\":\"white\",\"showbackground\":true,\"ticks\":\"\",\"zerolinecolor\":\"white\"},\"zaxis\":{\"backgroundcolor\":\"#E5ECF6\",\"gridcolor\":\"white\",\"gridwidth\":2,\"linecolor\":\"white\",\"showbackground\":true,\"ticks\":\"\",\"zerolinecolor\":\"white\"}},\"shapedefaults\":{\"line\":{\"color\":\"#2a3f5f\"}},\"ternary\":{\"aaxis\":{\"gridcolor\":\"white\",\"linecolor\":\"white\",\"ticks\":\"\"},\"baxis\":{\"gridcolor\":\"white\",\"linecolor\":\"white\",\"ticks\":\"\"},\"bgcolor\":\"#E5ECF6\",\"caxis\":{\"gridcolor\":\"white\",\"linecolor\":\"white\",\"ticks\":\"\"}},\"title\":{\"x\":0.05},\"xaxis\":{\"automargin\":true,\"gridcolor\":\"white\",\"linecolor\":\"white\",\"ticks\":\"\",\"title\":{\"standoff\":15},\"zerolinecolor\":\"white\",\"zerolinewidth\":2},\"yaxis\":{\"automargin\":true,\"gridcolor\":\"white\",\"linecolor\":\"white\",\"ticks\":\"\",\"title\":{\"standoff\":15},\"zerolinecolor\":\"white\",\"zerolinewidth\":2}}},\"title\":{\"text\":\"Stock Prices\"},\"xaxis\":{\"title\":{\"font\":{\"family\":\"Courier New, monospace\",\"size\":18},\"text\":\"Day\"}}},                        {\"responsive\": true}                    ).then(function(){\n",
       "                            \n",
       "var gd = document.getElementById('1168b685-c82b-4af0-8133-9bee97591d44');\n",
       "var x = new MutationObserver(function (mutations, observer) {{\n",
       "        var display = window.getComputedStyle(gd).display;\n",
       "        if (!display || display === 'none') {{\n",
       "            console.log([gd, 'removed!']);\n",
       "            Plotly.purge(gd);\n",
       "            observer.disconnect();\n",
       "        }}\n",
       "}});\n",
       "\n",
       "// Listen for the removal of the full notebook cells\n",
       "var notebookContainer = gd.closest('#notebook-container');\n",
       "if (notebookContainer) {{\n",
       "    x.observe(notebookContainer, {childList: true});\n",
       "}}\n",
       "\n",
       "// Listen for the clearing of the current output cell\n",
       "var outputEl = gd.closest('.output');\n",
       "if (outputEl) {{\n",
       "    x.observe(outputEl, {childList: true});\n",
       "}}\n",
       "\n",
       "                        })                };                });            </script>        </div>"
      ]
     },
     "metadata": {},
     "output_type": "display_data"
    }
   ],
   "source": [
    "iplot(plot2)"
   ]
  },
  {
   "cell_type": "markdown",
   "id": "bb0ae9a9",
   "metadata": {},
   "source": [
    "### 9) Model Testing "
   ]
  },
  {
   "cell_type": "code",
   "execution_count": 149,
   "id": "2b6f50bb",
   "metadata": {},
   "outputs": [],
   "source": [
    "#Predicting the target: Closing Value of Stock\n",
    "Y_pred_train= lm.predict(X_train)"
   ]
  },
  {
   "cell_type": "code",
   "execution_count": 150,
   "id": "7c8a2628",
   "metadata": {},
   "outputs": [],
   "source": [
    "Y_pred_test= lm.predict(X_test)"
   ]
  },
  {
   "cell_type": "markdown",
   "id": "5fbf2459",
   "metadata": {},
   "source": [
    "### 10) Evaluating Model Perfomance \n",
    "There are different metrics used to evaluate the performance of the model. Here the R Square score and Mean Squared Error is used."
   ]
  },
  {
   "cell_type": "code",
   "execution_count": 151,
   "id": "357f0f24",
   "metadata": {},
   "outputs": [],
   "source": [
    "from sklearn.metrics import mean_squared_error as mse\n",
    "from sklearn.metrics import r2_score as r2"
   ]
  },
  {
   "cell_type": "code",
   "execution_count": 152,
   "id": "78d92ecc",
   "metadata": {},
   "outputs": [
    {
     "data": {
      "text/plain": [
       "0.697013063731987"
      ]
     },
     "execution_count": 152,
     "metadata": {},
     "output_type": "execute_result"
    }
   ],
   "source": [
    "#r2 Score\n",
    "r2_S = r2(Y_train, Y_pred_train)\n",
    "r2_S"
   ]
  },
  {
   "cell_type": "code",
   "execution_count": 153,
   "id": "cf4df91a",
   "metadata": {},
   "outputs": [
    {
     "data": {
      "text/plain": [
       "3466.8438035855456"
      ]
     },
     "execution_count": 153,
     "metadata": {},
     "output_type": "execute_result"
    }
   ],
   "source": [
    "mse_S=mse(Y_train, Y_pred_train)\n",
    "mse_S"
   ]
  }
 ],
 "metadata": {
  "kernelspec": {
   "display_name": "Python 3",
   "language": "python",
   "name": "python3"
  },
  "language_info": {
   "codemirror_mode": {
    "name": "ipython",
    "version": 3
   },
   "file_extension": ".py",
   "mimetype": "text/x-python",
   "name": "python",
   "nbconvert_exporter": "python",
   "pygments_lexer": "ipython3",
   "version": "3.8.8"
  }
 },
 "nbformat": 4,
 "nbformat_minor": 5
}
